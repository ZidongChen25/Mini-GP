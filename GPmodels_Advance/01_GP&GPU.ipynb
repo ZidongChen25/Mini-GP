{
 "cells": [
  {
   "cell_type": "code",
   "execution_count": 2,
   "metadata": {
    "collapsed": true,
    "ExecuteTime": {
     "end_time": "2024-07-30T02:34:41.212564800Z",
     "start_time": "2024-07-30T02:34:38.680616300Z"
    }
   },
   "outputs": [
    {
     "name": "stdout",
     "output_type": "stream",
     "text": [
      "cuda\n"
     ]
    }
   ],
   "source": [
    "import os\n",
    "import time\n",
    "import sys\n",
    "sys.path.append('..')  # Add parent folder to sys.path\n",
    "\n",
    "import torch\n",
    "import torch.nn as nn\n",
    "import numpy as np\n",
    "from matplotlib import pyplot as plt\n",
    "from data_sample import generate_example_data as data\n",
    "from core.kernel import ARDKernel\n",
    "import core.GP_CommonCalculation as GP\n",
    "# from torch.autograd import Variable\n",
    "import torch.optim as optim\n",
    "os.environ['KMP_DUPLICATE_LIB_OK'] = 'True' # Fixing strange error if run in MacOS\n",
    "JITTER = 1e-6\n",
    "EPS = 1e-10\n",
    "PI = 3.1415\n",
    "device = torch.device('cuda' if torch.cuda.is_available() else 'cpu')\n",
    "print(device)"
   ]
  },
  {
   "cell_type": "code",
   "execution_count": 3,
   "outputs": [],
   "source": [
    "# generate example data\n",
    "xtr, ytr,xte,yte = data.generate(2000,100,seed=42)\n",
    "xtr = xtr.to(dtype=torch.float64,device=device)\n",
    "ytr = ytr.to(dtype=torch.float64, device=device)\n",
    "xte = xte.to(dtype=torch.float64,device=device)"
   ],
   "metadata": {
    "collapsed": false,
    "ExecuteTime": {
     "end_time": "2024-07-30T02:34:43.799887800Z",
     "start_time": "2024-07-30T02:34:41.938718400Z"
    }
   }
  },
  {
   "cell_type": "code",
   "execution_count": 4,
   "outputs": [],
   "source": [
    "kernel= ARDKernel(1)"
   ],
   "metadata": {
    "collapsed": false,
    "ExecuteTime": {
     "end_time": "2024-07-30T02:34:43.803622600Z",
     "start_time": "2024-07-30T02:34:43.800899600Z"
    }
   }
  },
  {
   "cell_type": "code",
   "execution_count": 5,
   "outputs": [],
   "source": [
    "log_beta = nn.Parameter(torch.ones(1, dtype=torch.float64, device=device) * -4)"
   ],
   "metadata": {
    "collapsed": false,
    "ExecuteTime": {
     "end_time": "2024-07-30T02:34:43.841179100Z",
     "start_time": "2024-07-30T02:34:43.804622700Z"
    }
   }
  },
  {
   "cell_type": "code",
   "execution_count": 6,
   "outputs": [],
   "source": [
    "def negative_log_likelihood(xtr, ytr, kernel,log_beta):\n",
    "    n = xtr.shape[0]\n",
    "    Sigma = kernel(xtr, xtr) + torch.eye(xtr.size(0), device=device) * torch.exp(log_beta) + JITTER * torch.eye(xtr.size(0), device=device)\n",
    "\n",
    "    return -GP.Gaussian_log_likelihood(ytr,Sigma,Kinv_method='conjugate')"
   ],
   "metadata": {
    "collapsed": false,
    "ExecuteTime": {
     "end_time": "2024-07-30T02:34:43.846682300Z",
     "start_time": "2024-07-30T02:34:43.844167400Z"
    }
   }
  },
  {
   "cell_type": "code",
   "execution_count": 7,
   "outputs": [],
   "source": [
    "def forward(xtr, ytr, xte, kernel,log_beta):\n",
    "\n",
    "    Sigma = kernel(xtr, xtr) + torch.eye(xtr.size(0), device=device) * torch.exp(log_beta) + JITTER * torch.eye(xtr.size(0), device=device)\n",
    "\n",
    "    K_s = kernel(xtr, xte)\n",
    "    K_ss=kernel(xte,xte)\n",
    "    mean,var=GP.conditional_Gaussian(ytr,Sigma,K_s,K_ss,Kinv_method=\"conjugate\")\n",
    "    var_diag=var.sum(dim = 0).view(-1, 1)\n",
    "    var_diag = var_diag + log_beta.exp().pow(-1)\n",
    "\n",
    "\n",
    "    return mean,var_diag"
   ],
   "metadata": {
    "collapsed": false,
    "ExecuteTime": {
     "end_time": "2024-07-30T02:34:44.089537200Z",
     "start_time": "2024-07-30T02:34:44.082025100Z"
    }
   }
  },
  {
   "cell_type": "code",
   "execution_count": 8,
   "outputs": [],
   "source": [
    "def train_adam(xtr, ytr, kernel, log_beta, niteration=10, lr=0.1):\n",
    "    # Adam optimizer\n",
    "    optimizer = optim.Adam([\n",
    "        {'params': kernel.parameters()},\n",
    "        {'params': [log_beta]}\n",
    "    ], lr=lr)\n",
    "\n",
    "    for i in range(niteration):\n",
    "        optimizer.zero_grad()\n",
    "        loss = negative_log_likelihood(xtr, ytr, kernel, log_beta)\n",
    "        loss.backward()\n",
    "        optimizer.step()\n",
    "\n",
    "        # Print kernel parameters\n",
    "        #for name, param in kernel.named_parameters():\n",
    "            #if param.requires_grad:\n",
    "                #print(f'{name}: {param.data}')\n",
    "\n",
    "        #print('log_beta:', log_beta.data)\n",
    "        print('iter', i, 'nll:{:.5f}'.format(loss.item()))"
   ],
   "metadata": {
    "collapsed": false,
    "ExecuteTime": {
     "end_time": "2024-07-30T02:34:44.725480300Z",
     "start_time": "2024-07-30T02:34:44.718400500Z"
    }
   }
  },
  {
   "cell_type": "code",
   "execution_count": 9,
   "outputs": [
    {
     "name": "stdout",
     "output_type": "stream",
     "text": [
      "iter 0 nll:382502.06290\n",
      "iter 1 nll:299551.12541\n",
      "iter 2 nll:220919.77021\n",
      "iter 3 nll:156796.60055\n",
      "iter 4 nll:113465.22244\n",
      "iter 5 nll:87426.06698\n",
      "iter 6 nll:71500.41040\n",
      "iter 7 nll:60641.16830\n",
      "iter 8 nll:52378.21319\n",
      "iter 9 nll:45658.33479\n",
      "iter 10 nll:40023.15320\n",
      "iter 11 nll:35127.48869\n",
      "iter 12 nll:30611.39181\n",
      "iter 13 nll:26281.49448\n",
      "iter 14 nll:22253.33022\n",
      "iter 15 nll:18817.27484\n",
      "iter 16 nll:16142.44942\n",
      "iter 17 nll:14162.87250\n",
      "iter 18 nll:12704.92916\n",
      "iter 19 nll:11613.04566\n",
      "iter 20 nll:10776.21731\n",
      "iter 21 nll:10115.66322\n",
      "iter 22 nll:9575.73884\n",
      "iter 23 nll:9119.04415\n",
      "iter 24 nll:8721.72755\n",
      "iter 25 nll:8368.84263\n",
      "iter 26 nll:8050.87485\n",
      "iter 27 nll:7761.44815\n",
      "iter 28 nll:7496.04140\n",
      "iter 29 nll:7251.27441\n",
      "iter 30 nll:7024.50625\n",
      "iter 31 nll:6813.60053\n",
      "iter 32 nll:6616.78275\n",
      "iter 33 nll:6432.54961\n",
      "iter 34 nll:6259.61008\n",
      "iter 35 nll:6096.84465\n",
      "iter 36 nll:5943.27521\n",
      "iter 37 nll:5798.04295\n",
      "iter 38 nll:5660.39018\n",
      "iter 39 nll:5529.64619\n",
      "iter 40 nll:5405.21513\n",
      "iter 41 nll:5286.56598\n",
      "iter 42 nll:5173.22533\n",
      "iter 43 nll:5064.76840\n",
      "iter 44 nll:4960.81452\n",
      "iter 45 nll:4861.02178\n",
      "iter 46 nll:4765.10946\n",
      "iter 47 nll:4672.74874\n",
      "iter 48 nll:4583.71122\n",
      "iter 49 nll:4497.76934\n",
      "iter 50 nll:4414.71608\n",
      "iter 51 nll:4334.36427\n",
      "iter 52 nll:4256.54306\n",
      "iter 53 nll:4181.09727\n",
      "iter 54 nll:4107.88511\n",
      "iter 55 nll:4036.77738\n",
      "iter 56 nll:3967.65599\n",
      "iter 57 nll:3900.41262\n",
      "iter 58 nll:3834.94790\n",
      "iter 59 nll:3771.17120\n",
      "iter 60 nll:3708.99870\n",
      "iter 61 nll:3648.35366\n",
      "iter 62 nll:3589.16513\n",
      "iter 63 nll:3531.36803\n",
      "iter 64 nll:3474.90112\n",
      "iter 65 nll:3419.70835\n",
      "iter 66 nll:3365.73889\n",
      "iter 67 nll:3312.94422\n",
      "iter 68 nll:3261.27898\n",
      "iter 69 nll:3210.70270\n",
      "iter 70 nll:3161.17472\n",
      "iter 71 nll:3112.65987\n",
      "iter 72 nll:3065.12405\n",
      "iter 73 nll:3018.53517\n",
      "iter 74 nll:2972.86344\n",
      "iter 75 nll:2928.08045\n",
      "iter 76 nll:2884.15942\n",
      "iter 77 nll:2841.07566\n",
      "iter 78 nll:2798.80528\n",
      "iter 79 nll:2757.32615\n",
      "iter 80 nll:2716.61606\n",
      "iter 81 nll:2676.65473\n",
      "iter 82 nll:2637.42346\n",
      "iter 83 nll:2598.90405\n",
      "iter 84 nll:2561.07810\n",
      "iter 85 nll:2523.92877\n",
      "iter 86 nll:2487.44145\n",
      "iter 87 nll:2451.59813\n",
      "iter 88 nll:2416.38567\n",
      "iter 89 nll:2381.79021\n",
      "iter 90 nll:2347.79598\n",
      "iter 91 nll:2314.39184\n",
      "iter 92 nll:2281.56314\n",
      "iter 93 nll:2249.29889\n",
      "iter 94 nll:2217.58565\n",
      "iter 95 nll:2186.41390\n",
      "iter 96 nll:2155.77005\n",
      "iter 97 nll:2125.64497\n",
      "iter 98 nll:2096.02724\n",
      "iter 99 nll:2066.90655\n"
     ]
    }
   ],
   "source": [
    "train_adam(xtr, ytr, kernel, log_beta, niteration=100,lr=0.1)"
   ],
   "metadata": {
    "collapsed": false,
    "ExecuteTime": {
     "end_time": "2024-07-30T02:35:13.918021400Z",
     "start_time": "2024-07-30T02:34:45.618554100Z"
    }
   }
  },
  {
   "cell_type": "code",
   "execution_count": 10,
   "outputs": [],
   "source": [
    "with torch.no_grad():\n",
    "    ypred, yvar = forward(xtr, ytr, xte, kernel,log_beta)"
   ],
   "metadata": {
    "collapsed": false,
    "ExecuteTime": {
     "end_time": "2024-07-30T02:35:16.351396700Z",
     "start_time": "2024-07-30T02:35:16.053699700Z"
    }
   }
  },
  {
   "cell_type": "code",
   "execution_count": 13,
   "outputs": [
    {
     "data": {
      "text/plain": "<Figure size 640x480 with 1 Axes>",
      "image/png": "[encoded data removed]"
     },
     "metadata": {},
     "output_type": "display_data"
    }
   ],
   "source": [
    "plt.fill_between(xte.cpu().squeeze().numpy(), ypred.cpu().squeeze().detach().numpy() - 1.96 * np.sqrt(yvar.cpu().squeeze().detach().numpy()), ypred.cpu().squeeze().detach().numpy() + 1.96 * np.sqrt(yvar.cpu().squeeze().detach().numpy()), alpha=0.2, label='95% Confidence interval')\n",
    "subset_size = 100  # Adjust this to the desired subset size\n",
    "indices = torch.randperm(xtr.size(0))[:subset_size]\n",
    "\n",
    "xtr_subset = xtr[indices]\n",
    "ytr_subset = ytr[indices]\n",
    "\n",
    "# Move the subset data to CPU for plotting\n",
    "xtr_subset_cpu = xtr_subset.cpu().numpy()\n",
    "ytr_subset_cpu = ytr_subset.cpu().numpy()\n",
    "\n",
    "# Plot the subset of the training data\n",
    "plt.plot(xtr_subset_cpu, ytr_subset_cpu, 'b+')\n",
    "plt.plot(xte.cpu(),yte.cpu())\n",
    "\n",
    "plt.show()"
   ],
   "metadata": {
    "collapsed": false,
    "ExecuteTime": {
     "end_time": "2024-07-30T08:18:34.352917500Z",
     "start_time": "2024-07-30T08:18:34.259172800Z"
    }
   }
  },
  {
   "cell_type": "code",
   "execution_count": null,
   "outputs": [],
   "source": [],
   "metadata": {
    "collapsed": false
   }
  }
 ],
 "metadata": {
  "kernelspec": {
   "display_name": "Python 3",
   "language": "python",
   "name": "python3"
  },
  "language_info": {
   "codemirror_mode": {
    "name": "ipython",
    "version": 2
   },
   "file_extension": ".py",
   "mimetype": "text/x-python",
   "name": "python",
   "nbconvert_exporter": "python",
   "pygments_lexer": "ipython2",
   "version": "2.7.6"
  }
 },
 "nbformat": 4,
 "nbformat_minor": 0
}
