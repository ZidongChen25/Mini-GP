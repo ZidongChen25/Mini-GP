{
 "cells": [
  {
   "cell_type": "markdown",
   "id": "b43613e7",
   "metadata": {},
   "source": [
    "# GP 教程-E02: 一小时上手的简单GP\n",
    "作者: Wei W. Xing (wxing.me) <br />\n",
    "翻译: Yuxin Wang\n",
    "日期: 2022-03-28    <br />\n",
    "\n",
    "摘要: 现如今高斯过程已经是一个长期存在并且广泛被应用的技术，并且也有很多有用的教程、课本、文章以及博客，但是我发现很多学生（包括学生时代的我）都曾经在将GP应用到实际问题这个过程中碰壁。我认为学会一个东西最简单的方法就是应用它而不是准备很多必要的数学背景或者深入理论。因此我准写了这篇教程，希望可以用一种比较直接的方式来应用GP这个技术，尤其是为了工科的学生们。希望这篇教程能有所帮助。"
   ]
  },
  {
   "cell_type": "markdown",
   "id": "927ed342",
   "metadata": {},
   "source": [
    "在这篇教程中，我们希望可以考虑最简单的一维输出的例子，也就是，$y \\in \\mathcal{R}^1$，是一维标量。相对应的\n",
    "$\\mathcal{x} \\in \\mathcal{R}^D$，输入的是一个D维的向量。\n",
    "那么让我们开始吧～ 由于这篇应用是基于Torch开发的，所以我们将从导入Torch库作为开端。"
   ]
  },
  {
   "cell_type": "code",
   "id": "50c77362",
   "metadata": {
    "ExecuteTime": {
     "end_time": "2024-07-30T08:24:18.350650300Z",
     "start_time": "2024-07-30T08:24:15.639104400Z"
    }
   },
   "source": [
    "import torch\n",
    "import torch.nn as nn\n",
    "import numpy as np\n",
    "from matplotlib import pyplot as plt\n",
    "import os\n",
    "\n",
    "# from torch.autograd import Variable\n",
    "\n",
    "print(torch.__version__)\n",
    "# I use torch (1.11.0) for this work. lower version may not work.\n",
    "\n",
    "os.environ['KMP_DUPLICATE_LIB_OK'] = 'True'  # Fixing strange error if run in MacOS\n",
    "\n",
    "JITTER = 1e-6\n",
    "EPS = 1e-10\n",
    "PI = 3.1415"
   ],
   "outputs": [
    {
     "name": "stdout",
     "output_type": "stream",
     "text": [
      "2.2.1\n"
     ]
    }
   ],
   "execution_count": 1
  },
  {
   "cell_type": "markdown",
   "id": "9e8d3d8c",
   "metadata": {},
   "source": [
    "#### 1. 生成综合数据\n",
    "将$y = (6x-2)^2sin(12x-4)$作为我们的目标拟合函数。我们将需要产生包含32组样本点的训练数据集$xtr, ytr$ 以及包含100组数据的测试数据集$xte, yte$ 。"
   ]
  },
  {
   "cell_type": "code",
   "id": "7692b6d6",
   "metadata": {
    "ExecuteTime": {
     "end_time": "2024-07-30T08:25:20.913823200Z",
     "start_time": "2024-07-30T08:25:20.834900800Z"
    }
   },
   "source": [
    "#train_set\n",
    "xtr = torch.rand(50, 1)\n",
    "ytr = ((6 * xtr - 2) ** 2) * torch.sin(12 * xtr - 4) + torch.randn(50, 1) * 1\n",
    "\n",
    "#test_set\n",
    "xte = torch.linspace(0, 1, 100).view(-1, 1)\n",
    "yte = ((6 * xte - 2) ** 2) * torch.sin(12 * xte - 4)\n",
    "\n",
    "#plot the data\n",
    "print(\"xtr.size:\", xtr.size(), \"ytr.size:\", ytr.size())\n",
    "print(\"xte.size:\", xte.size(), \"yte.size:\", yte.size())\n",
    "plt.plot(xtr.numpy(), ytr.numpy(), 'b+')\n",
    "plt.plot(xte.numpy(), yte.numpy(), 'r-', alpha=0.5)\n",
    "plt.show()"
   ],
   "outputs": [
    {
     "name": "stdout",
     "output_type": "stream",
     "text": [
      "xtr.size: torch.Size([50, 1]) ytr.size: torch.Size([50, 1])\n",
      "xte.size: torch.Size([100, 1]) yte.size: torch.Size([100, 1])\n"
     ]
    },
    {
     "data": {
      "text/plain": "<Figure size 640x480 with 1 Axes>",
      "image/png": "[encoded data removed]"
     },
     "metadata": {},
     "output_type": "display_data"
    }
   ],
   "execution_count": 12
  },
  {
   "cell_type": "markdown",
   "id": "e32aeed6",
   "metadata": {},
   "source": [
    "#### 2. 核函数以及模型参数（超参数）"
   ]
  },
  {
   "cell_type": "markdown",
   "id": "5a97c038",
   "metadata": {},
   "source": [
    "我们需要优化的函数是：均值函数以及核函数。但是优化一个“函数”并不是就想所说的那么简单， 因此我们需要给丁这些函数的特定形式，之后再去优化他们的参数。在这篇教程中，我们设定均值函数为零（不需要优化均值函数）。而核函数部分，我们使用最常用的automatic relevance determinant（ARD）核函数：\n",
    "$$k_{ard}(\\mathbf{x}, \\mathbf{x}') = a \\cdot \\exp(-\\frac{1}{2} \\sum_{d=1}^D{ (\\frac{x_d-x'_d}{l_d}})^2 )$$\n",
    "其中$a$是核函数的振幅，$l_d$是输入变量$x$的d维输入${x}_d$的长度系数（length scale）。$\\mathbf{l}$ 控制着每个输入维度的贡献量，比如：$l_d$数值越大，则${x}_d$相比于其他维度在系统中的贡献越大；反之亦然。因此，这个函数被称为ARD，即可以自动控制相关性。 <br />\n",
    "\n",
    "在开始编程之前还有另一件事情需要注意，$l_d$和$a$均为正参数。所以如果我们直接将他们定义为torch中的参数torch.parameters，则在优化过程中有可能导致$l_d$和$a$被计算成负数。因此我们需要特别注意确保$l_d$和$a$在过程中为正数。一个简单的方法就是，用他们取log之后的值来定义，而使用的时候再将其转换为其指数值。 <br />\n",
    "\n",
    " 那么现在我们可以定义核函数了，其返回值为输入两组数据的一个核矩阵。"
   ]
  },
  {
   "cell_type": "code",
   "id": "2190321a",
   "metadata": {
    "ExecuteTime": {
     "end_time": "2024-07-30T08:25:22.235657300Z",
     "start_time": "2024-07-30T08:25:22.222344100Z"
    }
   },
   "source": [
    "# define kernel parameters\n",
    "log_length_scale = nn.Parameter(torch.zeros(xte.size(1)))\n",
    "log_scale = nn.Parameter(torch.zeros(1))\n"
   ],
   "outputs": [],
   "execution_count": 13
  },
  {
   "cell_type": "code",
   "id": "019a10f8",
   "metadata": {
    "ExecuteTime": {
     "end_time": "2024-07-30T08:25:22.682328800Z",
     "start_time": "2024-07-30T08:25:22.426150400Z"
    }
   },
   "source": [
    "def kernel(X1, X2, log_length_scale, log_scale):\n",
    "    length_scale = torch.exp(log_length_scale)\n",
    "    K = torch.zeros(X1.size(0), X2.size(0))\n",
    "\n",
    "    for i in range(X1.size(0)):\n",
    "        for j in range(X2.size(0)):\n",
    "            for d in range(X1.size(1)):\n",
    "                K[i, j] = torch.exp(-0.5 * ((X1[i, d] - X2[j, d]) ** 2 / length_scale[d] ** 2).sum()) * torch.exp(\n",
    "                    log_scale)\n",
    "    return K\n",
    "\n",
    "\n",
    "K1 = kernel(xtr, xtr, log_length_scale, log_scale)\n",
    "print(K1)"
   ],
   "outputs": [
    {
     "name": "stdout",
     "output_type": "stream",
     "text": [
      "tensor([[1.0000, 0.8697, 0.8921,  ..., 0.9180, 0.9982, 0.9198],\n",
      "        [0.8697, 1.0000, 0.9987,  ..., 0.9935, 0.8964, 0.9929],\n",
      "        [0.8921, 0.9987, 1.0000,  ..., 0.9980, 0.9167, 0.9976],\n",
      "        ...,\n",
      "        [0.9180, 0.9935, 0.9980,  ..., 1.0000, 0.9396, 1.0000],\n",
      "        [0.9982, 0.8964, 0.9167,  ..., 0.9396, 1.0000, 0.9412],\n",
      "        [0.9198, 0.9929, 0.9976,  ..., 1.0000, 0.9412, 1.0000]],\n",
      "       grad_fn=<CopySlices>)\n"
     ]
    }
   ],
   "execution_count": 14
  },
  {
   "cell_type": "markdown",
   "id": "1d0cd531",
   "metadata": {},
   "source": [
    "然而，在编程过程中我们应该尽可能的避免使用循环结构，这是以内循环会导致消耗大量的内存以及时间。因此我们将用另一种方法来撰写核函数。"
   ]
  },
  {
   "cell_type": "code",
   "id": "c88c4cbc",
   "metadata": {
    "ExecuteTime": {
     "end_time": "2024-07-30T08:25:22.876309800Z",
     "start_time": "2024-07-30T08:25:22.832547700Z"
    }
   },
   "source": [
    "def kernel(X1, X2, log_length_scale, log_scale):  # 定义核函数没有加linear\n",
    "\n",
    "    X1 = X1 / log_length_scale.exp()\n",
    "    X2 = X2 / log_length_scale.exp()\n",
    "\n",
    "    X1_norm2 = X1 * X1\n",
    "    X2_norm2 = X2 * X2\n",
    "\n",
    "    K = -2.0 * X1 @ X2.t() + X1_norm2.expand(X1.size(0), X2.size(0)) + X2_norm2.t().expand(X1.size(0), X2.size(\n",
    "        0))  #this is the effective Euclidean distance matrix between X1 and X2.\n",
    "    K = log_scale.exp() * torch.exp(-0.5 * K)\n",
    "    return K\n",
    "\n",
    "\n",
    "K2 = kernel(xtr, xtr, log_length_scale, log_scale)\n",
    "print(K2)\n",
    "print((K1 - K2).norm())"
   ],
   "outputs": [
    {
     "name": "stdout",
     "output_type": "stream",
     "text": [
      "tensor([[1.0000, 0.8697, 0.8921,  ..., 0.9180, 0.9982, 0.9198],\n",
      "        [0.8697, 1.0000, 0.9987,  ..., 0.9935, 0.8964, 0.9929],\n",
      "        [0.8921, 0.9987, 1.0000,  ..., 0.9980, 0.9167, 0.9976],\n",
      "        ...,\n",
      "        [0.9180, 0.9935, 0.9980,  ..., 1.0000, 0.9396, 1.0000],\n",
      "        [0.9982, 0.8964, 0.9167,  ..., 0.9396, 1.0000, 0.9412],\n",
      "        [0.9198, 0.9929, 0.9976,  ..., 1.0000, 0.9412, 1.0000]],\n",
      "       grad_fn=<MulBackward0>)\n",
      "tensor(1.1558e-06, grad_fn=<LinalgVectorNormBackward0>)\n"
     ]
    }
   ],
   "execution_count": 15
  },
  {
   "cell_type": "markdown",
   "id": "aecf0429",
   "metadata": {},
   "source": [
    "我们可以看到两个核函数的结果是相通的，然而执行的时间却又很大的不同，我们还可以将训练数据的样本量增大来验证这种差异。    <br />\n",
    "\n",
    "此外，我们还需要定义GP中的噪声$\\sigma^2$。为了能够更简单地在今后的教程中介绍共轭先验只是，我们选择使用$\\sigma^2$的逆$\\beta=1/\\sigma^2$来定义噪声，而不是直接定义$\\sigma^2$，并且与长度系数核振幅相同，我们也需要确保噪声的值恒为正数。"
   ]
  },
  {
   "cell_type": "code",
   "id": "34dba8e3",
   "metadata": {
    "ExecuteTime": {
     "end_time": "2024-07-30T08:25:23.312358100Z",
     "start_time": "2024-07-30T08:25:23.309357400Z"
    }
   },
   "source": [
    "log_beta = nn.Parameter(torch.ones(1) * -4)  # this is a large noise. we optimize to shrink it to a proper value."
   ],
   "outputs": [],
   "execution_count": 16
  },
  {
   "cell_type": "markdown",
   "id": "932c072b",
   "metadata": {},
   "source": [
    "#### 3. 似然函数的负对数（negative log likelihood）\n",
    "对于大部分回归问题，我们需要对已定义好的损失函数求最小值。那么在GP中，损失函数就是似然函数值的负对数。\n",
    "\n",
    "因为我们需要对损失函数最小化，所以我们选择将似然函数取对数后再取相反数，并且由于似然函数值的对数有更为清晰的形式，并且不改变函数的单调性，所以对似然函数值取对数。\n",
    "\n",
    "似然函数的负对数形式为：\n",
    "$$L=-\\frac{1}{2}\\mathbf{y}^T (\\mathbf{K}+\\sigma^2 \\mathbf{I})^{-1}\\mathbf{y}-\\frac{1}{2}\\log(|\\mathbf{K}+\\sigma^2 \\mathbf{I}|)-\\frac{n}{2}log(2\\pi)$$\n",
    "其中$\\mathbf{y}$是将观测数据按照$N\\times1$向量形式排列，$\\mathbf{K}$是训练数据的大小为N\\times N$的核矩阵。$\\sigma^2$是噪声方差，并且$\\mathbf{I}$是单位矩阵。\n",
    "\n",
    "接下来我们用$\\mathbf{\\Sigma}=\\mathbf{K}+\\sigma^2 \\mathbf{I}$来代替核矩阵的逆，则损失函数可以写为：\n",
    "$$nll=\\frac{1}{2}\\mathbf{y}^T\\mathbf{\\Sigma}^{-1}\\mathbf{y}+\\frac{1}{2}\\log(|\\mathbf{\\Sigma}|)+\\frac{n}{2}log(2\\pi)$$\n",
    "\n",
    "我们虽然可以利用以后的损失函数值直接进行计算以及优化，但是由于求维度较高的矩阵的逆同样会十分占用时间与内存，因此，我们应该避免这种计算，而此采用另一个技巧（Cholesky 分解）来更佳高效稳定的计算。\n",
    "\n",
    "首先，计算核矩阵的cholesky分解：\n",
    "$\\mathbf{\\Sigma} = \\mathbf{L} \\mathbf{L}^T$\n",
    "所以在似然函数的负对数表达式中的第一项，可以推导为：\n",
    "$$ \\mathbf{y}^T (\\mathbf{K}+\\sigma^2 \\mathbf{I})^{-1}\\mathbf{y} = \\mathbf{y}^T (\\mathbf{L} \\mathbf{L}^T)^{-1} \\mathbf{y} = \\mathbf{y}^T \\mathbf{L}^{-T} \\mathbf{L}^{-1} \\mathbf{y}  = (\\mathbf{L}^{-1} \\mathbf{y})^T \\mathbf{L}^{-1} \\mathbf{y}  $$\n",
    "这个公式让我们通过解一个线性方程组的方式，$\\mathbf{L} \\mathbf{\\gamma} = \\mathbf{y}$，避免了矩阵求逆所带来的资源的浪费，并且给出了$\\mathbf{L}^{-1} \\mathbf{y} = \\mathbf{\\gamma}$。所以如果我们获得了$\\mathbf{\\gamma}$，我们就能够计算表达式中的第一项，也就是$\\mathbf{\\gamma}$的二范数。\n",
    "\n",
    "之后我们可以计算损失函数表达式中的第二项，即\n",
    "$$ \\log(|\\mathbf{\\Sigma}|) = \\log(| \\mathbf{L} \\mathbf{L}^T |) =  \\log(|\\mathbf{L}| |\\mathbf{L}^T|) = \\log(\\prod_{i=1}^{N} L_{ii} \\prod_{i=1}^{N} L_{ii}) = 2\\sum_{i=1}^{N}\\log(L_{ii})$$\n",
    "\n",
    "在经过了以上两个部分之后，损失函数可以表达为：\n",
    "$$nll=\\frac{1}{2} \\mathbf{\\gamma}^T \\mathbf{\\gamma} + \\sum_{i=1}^{N}\\log(L_{ii}) + \\frac{n}{2}log(2\\pi)$$\n",
    "\n",
    "那么接下来，我们一起将这个过程用代码表达出来。"
   ]
  },
  {
   "cell_type": "code",
   "id": "f3b4cd69",
   "metadata": {
    "ExecuteTime": {
     "end_time": "2024-07-30T08:25:23.785588600Z",
     "start_time": "2024-07-30T08:25:23.771379600Z"
    }
   },
   "source": [
    "def negative_log_likelihood(X, Y, log_length_scale, log_scale, log_beta):\n",
    "    y_num = Y.size(0)\n",
    "    Sigma = kernel(X, X, log_length_scale, log_scale) + log_beta.exp().pow(-1) * torch.eye(\n",
    "        X.size(0)) + JITTER * torch.eye(X.size(0))  # add JITTER here to avoid singularity\n",
    "\n",
    "    L = torch.linalg.cholesky(Sigma)\n",
    "    #option 1 (use this if torch supports)\n",
    "    gamma, _ = torch.triangular_solve(Y, L, upper=False)\n",
    "    # print(gamma.shape)\n",
    "    # print(\"gamma **2:\")\n",
    "    # print((gamma**2).sum())\n",
    "    # print(\"gamma.T@gamma\")\n",
    "    # print(gamma.T@gamma)\n",
    "    #option 2\n",
    "    # gamma = L.inverse() @ Y       # we can use this as an alternative because L is a lower triangular matrix.\n",
    "\n",
    "    nll = 0.5 * (gamma ** 2).sum() + L.diag().log().sum() + 0.5 * y_num * torch.log(2 * torch.tensor(PI))\n",
    "    return nll"
   ],
   "outputs": [],
   "execution_count": 17
  },
  {
   "cell_type": "markdown",
   "id": "9ee918d5",
   "metadata": {},
   "source": [
    "补充：(by zhenjie)<br/>\n",
    "gamma,_ = torch.triangular_solve(Y, L, upper = False)<br/>\n",
    "这里使用了torch.triangular_solve 函数，该函数用于解决三角线性系统。具体来说，它解决以下形式的线性系统方程： AX=B<br/>\n",
    "其中 A 是一个上三角或下三角矩阵（由参数 upper 决定），X 是未知矩阵，B 是已知矩阵。<br/>\n",
    "在这个代码中，Y 是已知矩阵，L 是下三角矩阵，gamma 是解矩阵<br/>\n",
    "具体而言，torch.triangular_solve(Y, L, upper=False) 的调用是将 Y 视为右侧矩阵，L 视为下三角矩阵，通过解决 LX=Y 来计算解矩阵 gamma。<br/>\n",
    "gamma 将是解矩阵，满足 L ⋅ gamma = Y。"
   ]
  },
  {
   "cell_type": "markdown",
   "id": "d7163215aba3b601",
   "metadata": {},
   "source": [
    "#### 4. 调用优化器\n",
    "当损失函数，也就是似然函数的负对数定义好之后，我们可以很简单地通过调用优化器来最小化损失函数值。"
   ]
  },
  {
   "cell_type": "code",
   "id": "28a06a7a",
   "metadata": {
    "ExecuteTime": {
     "end_time": "2024-07-30T08:25:24.902077400Z",
     "start_time": "2024-07-30T08:25:24.890760700Z"
    }
   },
   "source": [
    "def train_adam(X, Y, log_length_scale, log_scale, log_beta, niter=50, lr=0.001):\n",
    "    optimizer = torch.optim.Adam([log_beta, log_length_scale, log_scale], lr=lr)\n",
    "    optimizer.zero_grad()\n",
    "    for i in range(niter):\n",
    "        optimizer.zero_grad()\n",
    "        # self.update()\n",
    "        loss = negative_log_likelihood(X, Y, log_length_scale, log_scale, log_beta)\n",
    "        loss.backward()\n",
    "        optimizer.step()\n",
    "\n",
    "        # print the nll\n",
    "        # print('iter', i, ' nnl:', loss.item())\n",
    "        print('iter', i, 'nnl:{:.5f}'.format(loss.item()))\n",
    "        # print the likelihood\n",
    "        # print('iter', i, 'nnl:{:.5f}'.format(loss.item()),'likelihood:{:.9f}'.format((-loss).exp().item()) )\n",
    "\n",
    "\n",
    "train_adam(xtr, ytr, log_length_scale, log_scale, log_beta, 5, 0.01)"
   ],
   "outputs": [
    {
     "name": "stdout",
     "output_type": "stream",
     "text": [
      "iter 0 nnl:159.09067\n",
      "iter 1 nnl:158.96933\n",
      "iter 2 nnl:158.84930\n",
      "iter 3 nnl:158.73062\n",
      "iter 4 nnl:158.61334\n"
     ]
    }
   ],
   "execution_count": 18
  },
  {
   "cell_type": "markdown",
   "id": "cd80b279292c88d1",
   "metadata": {},
   "source": [
    "#### 5. 预测 Predictive Prosterior "
   ]
  },
  {
   "cell_type": "markdown",
   "id": "1458b3b3",
   "metadata": {},
   "source": [
    "当超参数优化完毕之后，我们可以根据如下的公式对预测后验分布进行计算：\n",
    "\\begin{aligned}\n",
    "&\\mu=\\mathbf{k}^* \\Sigma^{-1} \\mathbf{y}\\\\\n",
    "&s^2=\\mathbf{k}_{**}- (\\mathbf{k}^*)^T \\mathbf{\\Sigma}^{-1} \\mathbf{k}^* + {1}/{\\beta}\\\\\n",
    "\\end{aligned}\n",
    "如上文我们所提到的一样，我们应该尽可能的避免计算矩阵的逆。所以我们将再次次啊用cholesky分解以获得预测后验。\n",
    "\n",
    "首先我们定义 $\\mathbf{\\Sigma}^{-1} \\mathbf{y} =  \\mathbf{\\alpha}$，这个方法经常在文献和开放源代码中使用。引入 $\\mathbf{\\alpha}$ 的优点是：<br />\n",
    "1）我们可以使用cholesky分解计算预测后验；<br />\n",
    "2）节省内存并提供更快去的后验预测（不需要计算逆矩阵）<br />\n",
    "通过使用 $\\mathbf{L}$ 以获得 $\\mathbf{\\alpha}$, 我们首先解决了 $\\mathbf{L} \\mathbf{\\gamma} = \\mathbf{y}$，之后在计算 $\\mathbf{L}^T \\mathbf{y} = \\mathbf{\\gamma}$, 如你所见，有时会写成一种简洁的形式\n",
    "$$\\mathbf{\\alpha} = \\mathbf{L}^T \\backslash \\mathbf{L} \\backslash \\mathbf{y}$$\n",
    "\n",
    "$(\\mathbf{k}^*)^T \\mathbf{\\Sigma}^{-1} \\mathbf{k}^*$ 的计算则很类似 $\\mathbf{\\gamma}^T \\mathbf{\\gamma}$ 在之前提到的计算。"
   ]
  },
  {
   "cell_type": "code",
   "id": "c2a7a68e",
   "metadata": {
    "ExecuteTime": {
     "end_time": "2024-07-30T08:25:26.541989900Z",
     "start_time": "2024-07-30T08:25:26.539987600Z"
    }
   },
   "source": [
    "def forward(X, Xte, log_length_scale, log_scale, log_beta, Y):\n",
    "    n_test = Xte.size(0)\n",
    "    Sigma = kernel(X, X, log_length_scale, log_scale) + log_beta.exp().pow(-1) * torch.eye(\n",
    "        X.size(0)) + JITTER * torch.eye(X.size(0))\n",
    "    kx = kernel(X, Xte, log_length_scale, log_scale)\n",
    "    L = torch.cholesky(Sigma)\n",
    "\n",
    "    # option 1\n",
    "    mean = kx.t() @ torch.cholesky_solve(Y, L)  # torch.linalg.cholesky()\n",
    "    # option 2\n",
    "    # mean = kx @ torch.L.t().inverse() @ L.inverse() @ Y\n",
    "\n",
    "    # LinvKx = L.inverse() @ kx.t()  # TODO: the inverse for L should be cheap. check this.\n",
    "    # torch.cholesky_solve(kx.t(), L)\n",
    "    LinvKx, _ = torch.triangular_solve(kx, L, upper=False)\n",
    "    # option 1, standard way\n",
    "    # var_diag = kernel(Xte, Xte, log_length_scale, log_scale).diag().view(-1,1) - (LinvKx.t() @ LinvKx).diag().view(-1, 1)\n",
    "    # option 2, a faster way\n",
    "    var_diag = log_scale.exp().expand(n_test, 1) - (LinvKx ** 2).sum(dim=0).view(-1, 1)\n",
    "\n",
    "    var_diag = var_diag + log_beta.exp().pow(-1)\n",
    "    return mean, var_diag"
   ],
   "outputs": [],
   "execution_count": 19
  },
  {
   "cell_type": "markdown",
   "id": "552b00a1",
   "metadata": {},
   "source": [
    "#### 5. 测试与验证\n",
    "我们将在综合数据集上应用GP模型，并将结果可视化。"
   ]
  },
  {
   "cell_type": "code",
   "id": "5c1078f3",
   "metadata": {
    "ExecuteTime": {
     "end_time": "2024-07-30T08:25:27.646464200Z",
     "start_time": "2024-07-30T08:25:27.394282600Z"
    }
   },
   "source": [
    "train_adam(xtr, ytr, log_length_scale, log_scale, log_beta, 100, 0.1)\n",
    "with torch.no_grad():\n",
    "    ypred, yvar = forward(xtr, xte, log_length_scale, log_scale, log_beta, ytr)\n",
    "\n",
    "plt.fill_between(xte.squeeze().numpy(),\n",
    "                 ypred.squeeze().detach().numpy() - 1.96 * np.sqrt(yvar.squeeze().detach().numpy()),\n",
    "                 ypred.squeeze().detach().numpy() + 1.96 * np.sqrt(yvar.squeeze().detach().numpy()), alpha=0.2,\n",
    "                 label='95% Confidence interval')\n",
    "plt.plot(xte.squeeze().numpy(), ypred.squeeze().detach().numpy(), label='Predictive mean')\n",
    "plt.plot(xte.numpy(), yte.numpy(), 'r-', alpha=0.5, label='True function')\n",
    "plt.plot(xtr.detach().numpy(), ytr.detach().numpy(), 'b+')\n",
    "plt.plot(xtr.numpy(), ytr.numpy(), 'b+')\n",
    "plt.show()"
   ],
   "outputs": [
    {
     "name": "stdout",
     "output_type": "stream",
     "text": [
      "iter 0 nnl:158.49750\n",
      "iter 1 nnl:157.41156\n",
      "iter 2 nnl:156.47742\n",
      "iter 3 nnl:155.71124\n",
      "iter 4 nnl:155.12675\n",
      "iter 5 nnl:154.73169\n",
      "iter 6 nnl:154.52197\n",
      "iter 7 nnl:154.47485\n",
      "iter 8 nnl:154.54424\n",
      "iter 9 nnl:154.66498\n",
      "iter 10 nnl:154.76962\n",
      "iter 11 nnl:154.80908\n",
      "iter 12 nnl:154.76331\n",
      "iter 13 nnl:154.63744\n",
      "iter 14 nnl:154.45123\n",
      "iter 15 nnl:154.22873\n",
      "iter 16 nnl:153.99167\n",
      "iter 17 nnl:153.75583\n",
      "iter 18 nnl:153.52939\n",
      "iter 19 nnl:153.31296\n",
      "iter 20 nnl:153.10078\n",
      "iter 21 nnl:152.88348\n",
      "iter 22 nnl:152.65088\n",
      "iter 23 nnl:152.39447\n",
      "iter 24 nnl:152.10811\n",
      "iter 25 nnl:151.78656\n",
      "iter 26 nnl:151.42336\n",
      "iter 27 nnl:151.00797\n",
      "iter 28 nnl:150.52374\n",
      "iter 29 nnl:149.94629\n",
      "iter 30 nnl:149.24393\n",
      "iter 31 nnl:148.37952\n",
      "iter 32 nnl:147.31511\n",
      "iter 33 nnl:146.01675\n",
      "iter 34 nnl:144.46017\n",
      "iter 35 nnl:142.63525\n",
      "iter 36 nnl:140.54868\n",
      "iter 37 nnl:138.22012\n",
      "iter 38 nnl:135.66335\n",
      "iter 39 nnl:132.86003\n",
      "iter 40 nnl:129.77789\n",
      "iter 41 nnl:126.44694\n",
      "iter 42 nnl:122.98200\n",
      "iter 43 nnl:119.52090\n",
      "iter 44 nnl:116.15499\n",
      "iter 45 nnl:112.90695\n",
      "iter 46 nnl:109.75985\n",
      "iter 47 nnl:106.69667\n",
      "iter 48 nnl:103.71642\n",
      "iter 49 nnl:100.83667\n",
      "iter 50 nnl:98.09750\n",
      "iter 51 nnl:95.57114\n",
      "iter 52 nnl:93.34924\n",
      "iter 53 nnl:91.42242\n",
      "iter 54 nnl:89.61816\n",
      "iter 55 nnl:87.94846\n",
      "iter 56 nnl:86.60965\n",
      "iter 57 nnl:85.66212\n",
      "iter 58 nnl:85.00248\n",
      "iter 59 nnl:84.54149\n",
      "iter 60 nnl:84.29272\n",
      "iter 61 nnl:84.33157\n",
      "iter 62 nnl:84.62918\n",
      "iter 63 nnl:84.96175\n",
      "iter 64 nnl:85.28315\n",
      "iter 65 nnl:85.65485\n",
      "iter 66 nnl:85.99278\n",
      "iter 67 nnl:86.16815\n",
      "iter 68 nnl:86.18649\n",
      "iter 69 nnl:86.12456\n",
      "iter 70 nnl:86.00143\n",
      "iter 71 nnl:85.76112\n",
      "iter 72 nnl:85.47227\n",
      "iter 73 nnl:85.21501\n",
      "iter 74 nnl:84.98042\n",
      "iter 75 nnl:84.75432\n",
      "iter 76 nnl:84.57079\n",
      "iter 77 nnl:84.45741\n",
      "iter 78 nnl:84.39340\n",
      "iter 79 nnl:84.34795\n",
      "iter 80 nnl:84.33609\n",
      "iter 81 nnl:84.36279\n",
      "iter 82 nnl:84.40175\n",
      "iter 83 nnl:84.43666\n",
      "iter 84 nnl:84.46976\n",
      "iter 85 nnl:84.50735\n",
      "iter 86 nnl:84.53269\n",
      "iter 87 nnl:84.54070\n",
      "iter 88 nnl:84.53768\n",
      "iter 89 nnl:84.52841\n",
      "iter 90 nnl:84.51026\n",
      "iter 91 nnl:84.47737\n",
      "iter 92 nnl:84.44108\n",
      "iter 93 nnl:84.40656\n",
      "iter 94 nnl:84.37082\n",
      "iter 95 nnl:84.33601\n",
      "iter 96 nnl:84.30380\n",
      "iter 97 nnl:84.28149\n",
      "iter 98 nnl:84.26209\n",
      "iter 99 nnl:84.24812\n"
     ]
    },
    {
     "data": {
      "text/plain": "<Figure size 640x480 with 1 Axes>",
      "image/png": "[encoded data removed]"
     },
     "metadata": {},
     "output_type": "display_data"
    }
   ],
   "execution_count": 20
  },
  {
   "metadata": {},
   "cell_type": "code",
   "outputs": [],
   "execution_count": null,
   "source": [],
   "id": "11c83515da5f2723"
  }
 ],
 "metadata": {
  "kernelspec": {
   "display_name": "Python 3 (ipykernel)",
   "language": "python",
   "name": "python3"
  },
  "language_info": {
   "codemirror_mode": {
    "name": "ipython",
    "version": 3
   },
   "file_extension": ".py",
   "mimetype": "text/x-python",
   "name": "python",
   "nbconvert_exporter": "python",
   "pygments_lexer": "ipython3",
   "version": "3.6.13"
  }
 },
 "nbformat": 4,
 "nbformat_minor": 5
}
