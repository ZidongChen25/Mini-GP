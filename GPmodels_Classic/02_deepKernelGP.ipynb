{
 "cells": [
  {
   "cell_type": "code",
   "execution_count": 36,
   "metadata": {
    "ExecuteTime": {
     "end_time": "2024-06-30T23:48:50.180848Z",
     "start_time": "2024-06-30T23:48:50.151420600Z"
    }
   },
   "outputs": [
    {
     "name": "stdout",
     "output_type": "stream",
     "text": [
      "2.2.1\n",
      "2.2.1\n"
     ]
    }
   ],
   "source": [
    "import torch\n",
    "import torch.nn as nn\n",
    "from data_sample import generate_example_data as data\n",
    "from matplotlib import pyplot as plt\n",
    "import GP_CommonCalculation as GP\n",
    "from kernel import ARDKernel2\n",
    "import torch.optim as optim\n",
    "# I use torch (1.11.0) for this work. lower version may not work.\n",
    "from cigp_v10 import cigp\n",
    "import os\n",
    "os.environ['KMP_DUPLICATE_LIB_OK'] = 'True' # Fixing strange error if run in MacOS\n",
    "JITTER = 1e-6\n",
    "EPS = 1e-10\n",
    "PI = 3.1415"
   ]
  },
  {
   "cell_type": "code",
   "execution_count": 120,
   "outputs": [
    {
     "data": {
      "text/plain": "<Figure size 640x480 with 1 Axes>",
      "image/png": "[encoded data removed]"
     },
     "metadata": {},
     "output_type": "display_data"
    }
   ],
   "source": [
    "# generate example data\n",
    "xtr, ytr,xte,yte = data.generate(100,100,seed=42,input_dim=1)\n",
    "data.plot(xtr, ytr,xte,yte)"
   ],
   "metadata": {
    "collapsed": false,
    "ExecuteTime": {
     "end_time": "2024-06-30T23:56:36.735546Z",
     "start_time": "2024-06-30T23:56:36.639152100Z"
    }
   }
  },
  {
   "cell_type": "code",
   "execution_count": 121,
   "outputs": [],
   "source": [
    "kernel= ARDKernel2(1)"
   ],
   "metadata": {
    "collapsed": false,
    "ExecuteTime": {
     "end_time": "2024-06-30T23:56:37.082312800Z",
     "start_time": "2024-06-30T23:56:37.070089500Z"
    }
   }
  },
  {
   "cell_type": "code",
   "execution_count": 122,
   "outputs": [],
   "source": [
    "#initiate_log_beta\n",
    "log_beta = nn.Parameter(torch.ones(1) * -4) # this is a large noise. we optimize to shrink it to a proper value."
   ],
   "metadata": {
    "collapsed": false,
    "ExecuteTime": {
     "end_time": "2024-06-30T23:56:37.396067200Z",
     "start_time": "2024-06-30T23:56:37.389538800Z"
    }
   }
  },
  {
   "cell_type": "code",
   "execution_count": 123,
   "outputs": [],
   "source": [
    "class FeatureExtractor(nn.Module):\n",
    "    def __init__(self, input_dim=1):\n",
    "        super(FeatureExtractor, self).__init__()\n",
    "        self.network = nn.Sequential(\n",
    "            nn.Linear(input_dim, input_dim * 4),\n",
    "            nn.LeakyReLU(),\n",
    "            nn.Linear(input_dim * 4, input_dim * 2),\n",
    "            nn.LeakyReLU(),\n",
    "            nn.Linear(input_dim * 2, input_dim),\n",
    "        )\n",
    "\n",
    "    def forward(self, x):\n",
    "        return self.network(x)"
   ],
   "metadata": {
    "collapsed": false,
    "ExecuteTime": {
     "end_time": "2024-06-30T23:56:37.714075200Z",
     "start_time": "2024-06-30T23:56:37.705366900Z"
    }
   }
  },
  {
   "cell_type": "markdown",
   "source": [
    "If you want to normalize the data, you should do it after the feature extraction."
   ],
   "metadata": {
    "collapsed": false
   }
  },
  {
   "cell_type": "code",
   "execution_count": 124,
   "outputs": [],
   "source": [
    "feature_extractor = FeatureExtractor()"
   ],
   "metadata": {
    "collapsed": false,
    "ExecuteTime": {
     "end_time": "2024-06-30T23:56:38.347123500Z",
     "start_time": "2024-06-30T23:56:38.331147300Z"
    }
   }
  },
  {
   "cell_type": "code",
   "execution_count": 125,
   "outputs": [],
   "source": [
    "def negative_log_likelihood(xtr, ytr, kernel,log_beta,feature_extractor):\n",
    "    x_train=feature_extractor.forward(xtr)\n",
    "    Sigma = kernel(x_train, x_train) + log_beta.exp().pow(-1) * torch.eye(\n",
    "        xtr.size(0)) + JITTER * torch.eye(x_train.size(0))\n",
    "    return -GP.Gaussian_log_likelihood(ytr, Sigma)"
   ],
   "metadata": {
    "collapsed": false,
    "ExecuteTime": {
     "end_time": "2024-06-30T23:56:38.721030500Z",
     "start_time": "2024-06-30T23:56:38.715948100Z"
    }
   }
  },
  {
   "cell_type": "code",
   "execution_count": 126,
   "outputs": [],
   "source": [
    "def forward(xtr, ytr, xte, kernel,log_beta,feature_extractor):\n",
    "    x_train=feature_extractor.forward(xtr)\n",
    "    x_test=feature_extractor.forward(xte)\n",
    "    Sigma = kernel(x_train, x_train) + log_beta.exp().pow(-1) * torch.eye(\n",
    "       x_train.size(0)) + JITTER * torch.eye(x_train.size(0))\n",
    "\n",
    "    K_s = kernel(x_train, x_test)\n",
    "    K_ss= kernel(x_test, x_test)\n",
    "\n",
    "    mean, var = GP.conditional_Gaussian(ytr, Sigma, K_s, K_ss)\n",
    "\n",
    "    var_diag = var.sum(dim=0).view(-1, 1)\n",
    "    var_diag = var_diag + log_beta.exp().pow(-1)\n",
    "\n",
    "    return mean, var_diag"
   ],
   "metadata": {
    "collapsed": false,
    "ExecuteTime": {
     "end_time": "2024-06-30T23:56:39.064173500Z",
     "start_time": "2024-06-30T23:56:39.057637400Z"
    }
   }
  },
  {
   "cell_type": "code",
   "execution_count": 131,
   "outputs": [],
   "source": [
    "def train_adam(xtr, ytr, kernel, log_beta,feature_extractor, niteration=10, lr=0.1):\n",
    "    # Adam optimizer\n",
    "    optimizer = optim.Adam([\n",
    "        {'params': feature_extractor.parameters()},\n",
    "        {'params': kernel.parameters()},\n",
    "        {'params': [log_beta]}\n",
    "    ], lr=lr)\n",
    "\n",
    "    for i in range(niteration):\n",
    "        optimizer.zero_grad()\n",
    "        loss = negative_log_likelihood(xtr, ytr, kernel,log_beta,feature_extractor)\n",
    "        loss.backward()\n",
    "        optimizer.step()\n",
    "\n",
    "        # Print kernel parameters\n",
    "        #for name, param in feature_extractor.named_parameters():\n",
    "            #if param.requires_grad:\n",
    "                #print(f'{name}: {param.data}')\n",
    "\n",
    "        #print('log_beta:', log_beta.data)\n",
    "        if i % 10 == 0:\n",
    "            print('iter', i, 'nll:{:.5f}'.format(loss.item()))"
   ],
   "metadata": {
    "collapsed": false,
    "ExecuteTime": {
     "end_time": "2024-06-30T23:56:57.550025400Z",
     "start_time": "2024-06-30T23:56:57.543584300Z"
    }
   }
  },
  {
   "cell_type": "code",
   "execution_count": 132,
   "outputs": [
    {
     "name": "stdout",
     "output_type": "stream",
     "text": [
      "iter 0 nll:145.11215\n",
      "iter 10 nll:147.92764\n",
      "iter 20 nll:148.16571\n",
      "iter 30 nll:147.93501\n",
      "iter 40 nll:147.43953\n",
      "iter 50 nll:147.00676\n",
      "iter 60 nll:146.74274\n",
      "iter 70 nll:146.76477\n",
      "iter 80 nll:146.73967\n",
      "iter 90 nll:146.73811\n"
     ]
    }
   ],
   "source": [
    "train_adam(xtr, ytr, kernel, log_beta,feature_extractor, niteration=100,lr=0.1)"
   ],
   "metadata": {
    "collapsed": false,
    "ExecuteTime": {
     "end_time": "2024-06-30T23:56:58.102350800Z",
     "start_time": "2024-06-30T23:56:57.868766200Z"
    }
   }
  },
  {
   "cell_type": "code",
   "execution_count": 133,
   "outputs": [],
   "source": [
    "with torch.no_grad():\n",
    "    ypred, yvar = forward(xtr, ytr, xte, kernel,log_beta,feature_extractor)"
   ],
   "metadata": {
    "collapsed": false,
    "ExecuteTime": {
     "end_time": "2024-06-30T23:56:58.794920600Z",
     "start_time": "2024-06-30T23:56:58.786853600Z"
    }
   }
  },
  {
   "cell_type": "code",
   "execution_count": 134,
   "outputs": [
    {
     "data": {
      "text/plain": "<Figure size 640x480 with 1 Axes>",
      "image/png": "[encoded data removed]"
     },
     "metadata": {},
     "output_type": "display_data"
    }
   ],
   "source": [
    "#xtr,ytr=data_normalizer.denormalize(xtr,ytr)\n",
    "plt.errorbar(xte.numpy().reshape(100), ypred.detach().numpy().reshape(100),\n",
    "             yerr=yvar.sqrt().squeeze().detach().numpy(), fmt='r-.', alpha=0.2)\n",
    "plt.plot(xtr.numpy(), ytr.numpy(), 'b+')\n",
    "plt.show()"
   ],
   "metadata": {
    "collapsed": false,
    "ExecuteTime": {
     "end_time": "2024-06-30T23:56:59.291252600Z",
     "start_time": "2024-06-30T23:56:59.200251100Z"
    }
   }
  },
  {
   "cell_type": "markdown",
   "source": [
    "# Deep Kernel GP vs Standard GP\n",
    "\n",
    "## Objective\n",
    "\n",
    "Demonstrate the performance improvement of Deep Kernel Gaussian Process (GP) over Standard GP when dealing with complex data.\n",
    "\n",
    "## Instructions\n",
    "\n",
    "1. **Modify the Data Generation Function**:\n",
    "   - Change `input_dim` to 4.\n",
    "   - Set the number of training data points to 400.\n",
    "\n",
    "2. **Update the Model Parameters**:\n",
    "   - Change the input dimension of the feature extractor and ARDKernel to 4.\n",
    "   - Set the number of iterations to 600.\n",
    "\n",
    "3. **Run the Code** to Compare Performance of Deep Kernel GP"
   ],
   "metadata": {
    "collapsed": false
   }
  },
  {
   "cell_type": "code",
   "execution_count": null,
   "outputs": [],
   "source": [
    "model2=cigp(xtr, ytr)\n",
    "model2.train_adam(600,0.01)\n",
    "with torch.no_grad():\n",
    "    ypred2, yvar2 = model2.forward(xte)\n",
    "mse_deepKernel = ((yte - ypred) ** 2).mean()\n",
    "mse_standardGP = ((yte - ypred2) ** 2).mean()\n",
    "print('mse_deepKernel:',mse_deepKernel)\n",
    "print('mse_standardGP:',mse_standardGP)"
   ],
   "metadata": {
    "collapsed": false
   }
  }
 ],
 "metadata": {
  "language_info": {
   "name": "python"
  },
  "kernelspec": {
   "name": "python3",
   "language": "python",
   "display_name": "Python 3 (ipykernel)"
  }
 },
 "nbformat": 4,
 "nbformat_minor": 2
}
