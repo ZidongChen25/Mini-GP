{
 "cells": [
  {
   "cell_type": "code",
   "execution_count": 1,
   "metadata": {
    "collapsed": true
   },
   "outputs": [
    {
     "name": "stdout",
     "output_type": "stream",
     "text": [
      "2.2.1\n",
      "2.2.1\n"
     ]
    }
   ],
   "source": [
    "import torch\n",
    "import torch.nn as nn\n",
    "from data_sample import generate_example_data as data\n",
    "from matplotlib import pyplot as plt\n",
    "import GP_CommonCalculation as GP\n",
    "import kernel\n",
    "from kernel import RBFKernel, LinearKernel, RationalQuadraticKernel, PeriodicKernel\n",
    "import torch.optim as optim\n",
    "import importlib\n",
    "\n",
    "print(torch.__version__)\n",
    "# I use torch (1.11.0) for this work. lower version may not work.\n",
    "from cigp_v10 import cigp\n",
    "import os\n",
    "os.environ['KMP_DUPLICATE_LIB_OK'] = 'True' # Fixing strange error if run in MacOS\n",
    "JITTER = 1e-6\n",
    "EPS = 1e-10\n",
    "PI = 3.1415"
   ]
  },
  {
   "cell_type": "code",
   "execution_count": 2,
   "outputs": [
    {
     "data": {
      "text/plain": "<Figure size 640x480 with 1 Axes>",
      "image/png": "[encoded data removed]"
     },
     "metadata": {},
     "output_type": "display_data"
    }
   ],
   "source": [
    "# generate example data\n",
    "xtr, ytr,xte,yte = data.generate(32,100,seed=42)\n",
    "data.plot(xtr, ytr,xte,yte)"
   ],
   "metadata": {
    "collapsed": false,
    "ExecuteTime": {
     "end_time": "2024-06-30T23:47:27.510102400Z",
     "start_time": "2024-06-30T23:47:27.379084200Z"
    }
   }
  },
  {
   "cell_type": "code",
   "execution_count": 3,
   "outputs": [],
   "source": [
    "class neural_kernel(nn.Module):\n",
    "    def __init__(self, x_dim, num_kernels=3):\n",
    "        \"\"\"\n",
    "        Initializes the neural_kernel class.\n",
    "\n",
    "        Parameters:\n",
    "        - x_dim (int): The number of dimensions (features) in the input data. This is used for ARD in the kernels.\n",
    "        - num_kernels (int): The number of different kernels whose outputs will be combined. Default is 3.\n",
    "        \"\"\"\n",
    "        super(neural_kernel, self).__init__()\n",
    "        self.RBFKernel_1 = RBFKernel(x_dim)\n",
    "        self.RQKern_1 = RationalQuadraticKernel(x_dim)\n",
    "        self.PerKern_1 = PeriodicKernel(x_dim)\n",
    "        self.linear_1 = nn.Linear(num_kernels, 1)\n",
    "        nn.init.uniform_(self.linear_1.weight, a=0.5 * 1. / (2 * self.linear_1.in_features),\n",
    "                         b=0.5 * 3. / (2 * self.linear_1.in_features))\n",
    "\n",
    "    def forward(self, x1, x2):\n",
    "        \"\"\"\n",
    "        Forward pass through the neural kernel network.\n",
    "\n",
    "        Parameters:\n",
    "        - x1 (Tensor): The first input tensor.\n",
    "        - x2 (Tensor): The second input tensor.\n",
    "\n",
    "        Returns:\n",
    "        - var_act (Tensor): The output tensor after applying the kernels, linear layer, and activation function.\n",
    "        \"\"\"\n",
    "        var1 = self.RBFKernel_1.forward(x1, x2)\n",
    "        var2 = self.PerKern_1.forward(x1, x2)\n",
    "        var3 = self.RQKern_1.forward(x1, x2)\n",
    "        var = torch.stack((var1, var2, var3), dim=-1)  # Stack along a new dimension (third dimension)\n",
    "        var_lin1 = self.linear_1(var).reshape(var1.shape)\n",
    "        var_act = torch.exp(var_lin1)\n",
    "        return var_lin1#var_act"
   ],
   "metadata": {
    "collapsed": false,
    "ExecuteTime": {
     "end_time": "2024-06-30T23:47:27.517202500Z",
     "start_time": "2024-06-30T23:47:27.514160900Z"
    }
   }
  },
  {
   "cell_type": "code",
   "execution_count": 4,
   "outputs": [],
   "source": [
    "x_dim= xtr.size(1)\n",
    "kernel= neural_kernel(x_dim)"
   ],
   "metadata": {
    "collapsed": false,
    "ExecuteTime": {
     "end_time": "2024-06-30T23:47:27.545353Z",
     "start_time": "2024-06-30T23:47:27.518054300Z"
    }
   }
  },
  {
   "cell_type": "code",
   "execution_count": 5,
   "outputs": [],
   "source": [
    "#initiate_log_beta\n",
    "log_beta = nn.Parameter(torch.ones(1) * -4) # this is a large noise. we optimize to shrink it to a proper value."
   ],
   "metadata": {
    "collapsed": false,
    "ExecuteTime": {
     "end_time": "2024-06-30T23:47:27.589992500Z",
     "start_time": "2024-06-30T23:47:27.545353Z"
    }
   }
  },
  {
   "cell_type": "code",
   "execution_count": 6,
   "outputs": [],
   "source": [
    "def negative_log_likelihood(xtr, ytr, kernel,log_beta):\n",
    "    Sigma = kernel(xtr, xtr) + log_beta.exp().pow(-1) * torch.eye(\n",
    "        xtr.size(0)) + JITTER * torch.eye(xtr.size(0))\n",
    "    return -GP.Gaussian_log_likelihood(ytr, Sigma)\n"
   ],
   "metadata": {
    "collapsed": false,
    "ExecuteTime": {
     "end_time": "2024-06-30T23:47:27.590789Z",
     "start_time": "2024-06-30T23:47:27.545353Z"
    }
   }
  },
  {
   "cell_type": "code",
   "execution_count": 7,
   "outputs": [],
   "source": [
    "def forward(xtr, ytr, xte, kernel,log_beta):\n",
    "    n_test = xte.size(0)\n",
    "    #xte=data_normalizer.normalize(xte)\n",
    "    Sigma = kernel(xtr, xtr) + log_beta.exp().pow(-1) * torch.eye(\n",
    "        xtr.size(0)) + JITTER * torch.eye(xtr.size(0))\n",
    "\n",
    "    K_s = kernel(xtr, xte)\n",
    "    K_ss= kernel(xte, xte)\n",
    "\n",
    "    mean, var = GP.conditional_Gaussian(ytr, Sigma, K_s, K_ss)\n",
    "\n",
    "    var_diag = var.sum(dim=0).view(-1, 1)\n",
    "    var_diag = var_diag + log_beta.exp().pow(-1)\n",
    "\n",
    "    # Denormalize\n",
    "    #mean, var_diag = data_normalizer.denormalize_result(mean, var_diag)\n",
    "    return mean, var_diag"
   ],
   "metadata": {
    "collapsed": false,
    "ExecuteTime": {
     "end_time": "2024-06-30T23:47:27.590789Z",
     "start_time": "2024-06-30T23:47:27.545353Z"
    }
   }
  },
  {
   "cell_type": "code",
   "execution_count": 8,
   "outputs": [],
   "source": [
    "def train_adam(xtr, ytr, kernel, log_beta, niteration=10, lr=0.1):\n",
    "    # Adam optimizer\n",
    "    optimizer = optim.Adam([\n",
    "        {'params': kernel.parameters()},\n",
    "        {'params': [log_beta]}\n",
    "    ], lr=lr)\n",
    "\n",
    "    for i in range(niteration):\n",
    "        optimizer.zero_grad()\n",
    "        loss = negative_log_likelihood(xtr, ytr, kernel, log_beta)\n",
    "        loss.backward()\n",
    "        optimizer.step()\n",
    "\n",
    "        # Print kernel parameters\n",
    "        #for name, param in kernel.named_parameters():\n",
    "            #if param.requires_grad:\n",
    "                #print(f'{name}: {param.data}')\n",
    "\n",
    "        #print('log_beta:', log_beta.data)\n",
    "        if i % 10 == 0:\n",
    "            print('iter', i, 'nll:{:.5f}'.format(loss.item()))"
   ],
   "metadata": {
    "collapsed": false,
    "ExecuteTime": {
     "end_time": "2024-06-30T23:47:27.590789Z",
     "start_time": "2024-06-30T23:47:27.545353Z"
    }
   }
  },
  {
   "cell_type": "code",
   "execution_count": 9,
   "outputs": [
    {
     "name": "stdout",
     "output_type": "stream",
     "text": [
      "iter 0 nll:100.13283\n",
      "iter 10 nll:99.19533\n",
      "iter 20 nll:98.32220\n",
      "iter 30 nll:97.50642\n",
      "iter 40 nll:96.73741\n",
      "iter 50 nll:95.99857\n",
      "iter 60 nll:95.26967\n",
      "iter 70 nll:94.51790\n",
      "iter 80 nll:93.60455\n",
      "iter 90 nll:91.41542\n",
      "iter 100 nll:90.10162\n",
      "iter 110 nll:88.61752\n",
      "iter 120 nll:87.20313\n",
      "iter 130 nll:85.86676\n",
      "iter 140 nll:84.59161\n",
      "iter 150 nll:83.36053\n",
      "iter 160 nll:82.16724\n",
      "iter 170 nll:81.00974\n",
      "iter 180 nll:79.88416\n",
      "iter 190 nll:78.78777\n",
      "iter 200 nll:77.71883\n",
      "iter 210 nll:76.67651\n",
      "iter 220 nll:75.66081\n",
      "iter 230 nll:74.67256\n",
      "iter 240 nll:73.71310\n",
      "iter 250 nll:72.78430\n",
      "iter 260 nll:71.88835\n",
      "iter 270 nll:71.02760\n",
      "iter 280 nll:70.20450\n",
      "iter 290 nll:69.42145\n"
     ]
    }
   ],
   "source": [
    "train_adam(xtr, ytr, kernel, log_beta, niteration=300,lr=0.01)"
   ],
   "metadata": {
    "collapsed": false,
    "ExecuteTime": {
     "end_time": "2024-06-30T23:47:29.420944100Z",
     "start_time": "2024-06-30T23:47:27.545353Z"
    }
   }
  },
  {
   "cell_type": "code",
   "execution_count": 10,
   "outputs": [],
   "source": [
    "with torch.no_grad():\n",
    "    ypred, yvar = forward(xtr, ytr, xte, kernel,log_beta)"
   ],
   "metadata": {
    "collapsed": false,
    "ExecuteTime": {
     "end_time": "2024-06-30T23:47:29.428729700Z",
     "start_time": "2024-06-30T23:47:29.421780100Z"
    }
   }
  },
  {
   "cell_type": "code",
   "execution_count": 11,
   "outputs": [
    {
     "data": {
      "text/plain": "<Figure size 640x480 with 1 Axes>",
      "image/png": "[encoded data removed]"
     },
     "metadata": {},
     "output_type": "display_data"
    }
   ],
   "source": [
    "#xtr,ytr=data_normalizer.denormalize(xtr,ytr)\n",
    "plt.errorbar(xte.numpy().reshape(100), ypred.detach().numpy().reshape(100),\n",
    "             yerr=yvar.sqrt().squeeze().detach().numpy(), fmt='r-.', alpha=0.2)\n",
    "plt.plot(xtr.numpy(), ytr.numpy(), 'b+')\n",
    "plt.show()"
   ],
   "metadata": {
    "collapsed": false,
    "ExecuteTime": {
     "end_time": "2024-06-30T23:47:29.532829600Z",
     "start_time": "2024-06-30T23:47:29.429621800Z"
    }
   }
  },
  {
   "cell_type": "code",
   "execution_count": 13,
   "outputs": [
    {
     "name": "stdout",
     "output_type": "stream",
     "text": [
      "iter 0 nll:43.43343\n",
      "iter 10 nll:42.49739\n",
      "iter 20 nll:41.21923\n",
      "iter 30 nll:39.46359\n",
      "iter 40 nll:37.34563\n",
      "iter 50 nll:35.20496\n",
      "iter 60 nll:33.34231\n",
      "iter 70 nll:31.81442\n",
      "iter 80 nll:30.49278\n",
      "iter 90 nll:29.26431\n",
      "mse_neuralKernel: tensor(0.3753)\n",
      "mse_standardGP: tensor(0.4386)\n"
     ]
    }
   ],
   "source": [
    "#Comparing with standard GP\n",
    "model2=cigp(xtr, ytr)\n",
    "model2.train_adam(100,0.01)\n",
    "with torch.no_grad():\n",
    "    ypred2, yvar2 = model2.forward(xte)\n",
    "mse_neuralKernel = ((yte - ypred) ** 2).mean()\n",
    "mse_standardGP = ((yte - ypred2) ** 2).mean()\n",
    "print('mse_neuralKernel:',mse_neuralKernel)\n",
    "print('mse_standardGP:',mse_standardGP)"
   ],
   "metadata": {
    "collapsed": false,
    "ExecuteTime": {
     "end_time": "2024-06-30T23:47:46.525975900Z",
     "start_time": "2024-06-30T23:47:46.387570700Z"
    }
   }
  },
  {
   "cell_type": "code",
   "execution_count": null,
   "outputs": [],
   "source": [],
   "metadata": {
    "collapsed": false
   }
  }
 ],
 "metadata": {
  "kernelspec": {
   "display_name": "Python 3",
   "language": "python",
   "name": "python3"
  },
  "language_info": {
   "codemirror_mode": {
    "name": "ipython",
    "version": 2
   },
   "file_extension": ".py",
   "mimetype": "text/x-python",
   "name": "python",
   "nbconvert_exporter": "python",
   "pygments_lexer": "ipython2",
   "version": "2.7.6"
  }
 },
 "nbformat": 4,
 "nbformat_minor": 0
}
