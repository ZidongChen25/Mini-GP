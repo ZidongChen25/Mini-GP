{
 "cells": [
  {
   "cell_type": "markdown",
   "id": "b43613e7",
   "metadata": {},
   "source": [
    "# HOGP 教程:\n",
    "作者：ZhenjieLu, Wei W Xing  <br />\n",
    "日期：2023-12-1    <br />\n",
    "修改：2023-12-7、2024-2-5    <br />\n",
    "\n",
    "大多数高斯过程（GP）工作侧重于学习单个输出函数，但许多应用，如物理模拟和基因表达预测，需要对具有许多输出的函数进行估计。HOGP相对于普通的GP，其实现更加的复杂，在输入和潜在特征上使用具有Kronecker乘积结构，使其能对数百万个输出进行精确推理，更容易拓展到高维空间。"
   ]
  },
  {
   "cell_type": "markdown",
   "id": "20f49aa2",
   "metadata": {},
   "source": [
    "## 背景知识：<br />\n",
    "### 1.Kronecker积的定义<br />\n",
    "一般而言，给定任意矩阵$ \\mathbf{X} \\in \\mathbf{R}^{m \\times n} $和$\\mathbf{Y} \\in \\mathbf{R}^{p \\times q}$，则矩阵$\\mathbf{X}$ 和矩阵 $\\mathbf{Y}$ 的Kronecker积为<br />\n",
    "$$(\\mathbf{X} \\otimes \\mathbf{Y})_{(i \\cdot p) + k, (j \\cdot q) + l} = X_{i, j} \\cdot {Y}_{k, l}$$\n",
    "或者\n",
    "$$\\mathbf{X} \\otimes \\mathbf{Y} = \\begin{bmatrix} X_{1, 1} \\cdot \\mathbf{Y} & X_{1, 2} \\cdot \\mathbf{Y} & \\cdots & X_{1, n} \\cdot \\mathbf{Y} \\\\ X_{2, 1} \\cdot \\mathbf{Y} & X_{2, 2} \\cdot \\mathbf{Y} & \\cdots & X_{2, n} \\cdot \\mathbf{Y} \\\\ \\vdots & \\vdots & \\ddots & \\vdots \\\\ X_{m, 1} \\cdot \\mathbf{Y} & X_{m, 2} \\cdot \\mathbf{Y} & \\cdots & X_{m, n} \\cdot \\mathbf{Y} \\end{bmatrix}$$\n",
    "具体知识可参考维基百科：https://en.wikipedia.org/wiki/Kronecker_product\n",
    "\n",
    "### 2.Tucker运算<br />\n",
    "张量分解（tensor decomposition）是一种将一个高阶张量表示为多个低秩张量乘积的方法。Tucker分解是其中一种常用的张量分解方法，它将一个张量分解为一个核张量（core tensor）与一组因子矩阵（factor matrices）。Tucker运算指的是使用Tucker分解来进行张量的乘法和重构。\n",
    "\n",
    "### 3.模式张量矩阵乘积<br/>\n",
    "给定一个张量$M∈R^{r_1×··×r_Q×p}$，$U∈R^{s×t}$,当$r_k = t$时，可以在张量$M$的第$k$个模式上与矩阵$U$进行乘法运算，得到一个新的张量$N∈R^{r_1×··×r_{k-1}×s×r_{k+1}×··×r_Q×p}$。\n",
    "\n",
    "### 4.特征分解\n",
    "特征分解（Eigendecomposition），又称谱分解（Spectral decomposition）是将矩阵分解为由其特征值和特征向量表示的矩阵之积的方法。\n",
    "若$A$是一个$N$ x $N$的方阵,且有$N$个线性独立的特征向量$q_i$(i=1,...,N),这样,$A$可以被分解为$$A = QΛQ^{-1}$$\n",
    "其中$Q$是$N$×$N$方阵，且其第$i$列为$A$的特征向量$q_i$。$Λ$ 是对角矩阵，其对角线上的元素为对应的特征值，也即 $Λ_{ii}$=$\\lambda_i$。\n",
    "\n",
    "通过特征分解的方法可以求反(逆)矩阵\n",
    "若矩阵$A$可被特征分解并特征值中不含零，则矩阵$A$为非奇异矩阵，且其逆矩阵可以由下式给出：\n",
    "$$A^{-1} = QΛ^{-1}Q^{-1} $$\n",
    "因为$Λ$为对角矩阵，其逆矩阵容易计算出：\n",
    "$\\left[\\Lambda^{-1}\\right]_{ii}=\\frac{1}{\\lambda_i}$\n",
    "\n",
    "具体知识可以参考维基百科：https://zh.wikipedia.org/wiki/%E7%89%B9%E5%BE%81%E5%88%86%E8%A7%A3<br />\n",
    "\n"
   ]
  },
  {
   "cell_type": "code",
   "execution_count": 1,
   "id": "1cd44744",
   "metadata": {
    "ExecuteTime": {
     "end_time": "2024-07-31T01:18:06.377673100Z",
     "start_time": "2024-07-31T01:18:03.723257500Z"
    }
   },
   "outputs": [],
   "source": [
    "import torch\n",
    "\n",
    "\n",
    "class eigen_pairs:\n",
    "    def __init__(self, matrix) -> None:\n",
    "        eigen_value, eigen_vector = torch.linalg.eigh(matrix, UPLO='U')\n",
    "        self.value = eigen_value\n",
    "        self.vector = eigen_vector"
   ]
  },
  {
   "cell_type": "markdown",
   "id": "927ed342",
   "metadata": {},
   "source": [
    "## 1. 开始\n",
    "HOGP可以处理多维数据，在这篇教程中，为了介绍HOGP，我们假设一个简单的例子，即在给定输入$\\mathbf{x}$的情况下预测图像的像素值(两个像素越接近，它们的相关性就越强)，即二维输出$y \\in \\mathbf{R}^{d_1 \\times d_2}$。相对应的\n",
    "$\\mathbf{x} \\in \\mathbf{R}^D$，输入的$\\mathbf{x}$是一个D维的向量。<br />\n",
    "那么让我们开始吧～ 由于这篇应用是基于Torch开发的，所以我们将从导入Torch库作为开端。"
   ]
  },
  {
   "cell_type": "code",
   "execution_count": 2,
   "id": "50c77362",
   "metadata": {
    "ExecuteTime": {
     "end_time": "2024-07-31T01:18:07.891141800Z",
     "start_time": "2024-07-31T01:18:07.838392600Z"
    }
   },
   "outputs": [
    {
     "name": "stdout",
     "output_type": "stream",
     "text": [
      "2.2.1\n",
      "cuda\n"
     ]
    }
   ],
   "source": [
    "import torch.nn as nn\n",
    "\n",
    "# from torch.autograd import Variable\n",
    "\n",
    "torch.manual_seed(1)  #set seed for reproducibility\n",
    "device = torch.device('cuda' if torch.cuda.is_available() else 'cpu')\n",
    "torch.set_default_dtype(torch.float64)\n",
    "print(torch.__version__)\n",
    "print(device)\n"
   ]
  },
  {
   "cell_type": "markdown",
   "id": "9e8d3d8c",
   "metadata": {},
   "source": [
    "## 2. 加载训练数据\n",
    "我们为本教程准备了256组图像数据$x,y$，存放在data_sample中，其中128组用于训练$xtr,ytr$，128组用于测试$xte,yte$。在训练前，我们将数据组织成tensor，并对数据进行归一化处理，HOGP可以处理多维数据，因此我们还需要在定义HOGP时获取输出维度。"
   ]
  },
  {
   "cell_type": "code",
   "execution_count": 3,
   "id": "7692b6d6",
   "metadata": {
    "ExecuteTime": {
     "end_time": "2024-07-31T01:18:12.536554500Z",
     "start_time": "2024-07-31T01:18:09.291687100Z"
    }
   },
   "outputs": [],
   "source": [
    "import numpy as np\n",
    "import matplotlib.pyplot as plt\n",
    "import core.GP_CommonCalculation as GP\n",
    "\n",
    "x = np.load('D:\\iceLab\\data_sample\\input.npy')\n",
    "x = torch.tensor(x, dtype=torch.float64).to(device)\n",
    "y = np.load('D:\\iceLab\\data_sample\\output_fidelity_2.npy')\n",
    "y = torch.tensor(y, dtype=torch.float64).to(device)\n",
    "\n",
    "## Normalize data, currently using full dimensional standardization\n",
    "normalizer = GP.DataNormalization(mode=1)\n",
    "normalizer.fit(x, 'x')\n",
    "normalizer.fit(y, 'y')\n",
    "x = normalizer.normalize(x, 'x')\n",
    "y = normalizer.normalize(y, 'y')\n",
    "\n",
    "xtr = x[:128, :]\n",
    "ytr = y[:128, :]\n",
    "xte = x[128:, :]\n",
    "yte = y[128:, :]\n",
    "\n",
    "output_shape = ytr[0, ...].shape\n"
   ]
  },
  {
   "cell_type": "markdown",
   "id": "e32aeed6",
   "metadata": {},
   "source": [
    "## 2. 核函数以及模型参数（超参数）\n",
    "HOGP使用到核函数，我们需要优化的函数是：均值函数以及核函数。我们需要给定这些函数的特定形式，之后再去优化他们的参数。在这篇教程中，我们设定均值函数为零（不需要优化均值函数）。而核函数部分，我们使用最常用的automatic relevance determinant（ARD）核函数：\n",
    "$$k_{ard}(\\mathbf{x}, \\mathbf{x}') = a \\cdot \\exp(-\\frac{1}{2} \\sum_{d=1}^D{ (\\frac{x_d-x'_d}{l_d}})^2 )$$\n",
    "其中$a$是核函数的振幅，$l_d$是输入变量$x$的d维输入${x}_d$的长度系数（length scale）。$\\mathbf{l}$ 控制着每个输入维度的贡献量，比如：$l_d$数值越大，则${x}_d$相比于其他维度在系统中的贡献越大；反之亦然。因此，这个函数被称为ARD，即可以自动控制相关性。 <br />\n",
    "现在我们可以定义核函数了，其返回值为输入两组数据的一个核矩阵，但在这篇教程中，我们最终导入kernel文件中的ARD核函数。但两者是一个东西。"
   ]
  },
  {
   "cell_type": "code",
   "execution_count": 4,
   "id": "019a10f8",
   "metadata": {
    "ExecuteTime": {
     "end_time": "2024-07-31T01:18:15.093834500Z",
     "start_time": "2024-07-31T01:18:15.083753500Z"
    }
   },
   "outputs": [],
   "source": [
    "import core.kernel as kernel\n",
    "\n",
    "EPS = 1e-9\n",
    "\n",
    "\n",
    "class ARDKernel(nn.Module):\n",
    "    \"\"\"\n",
    "    ARD (Automatic Relevance Determination) kernel module.\n",
    "\n",
    "    Args:\n",
    "        input_dim (int): The input dimension.\n",
    "        initial_length_scale (float): The initial length scale value. Default is 1.0.\n",
    "        initial_signal_variance (float): The initial signal variance value. Default is 1.0.\n",
    "        eps (float): A small constant to prevent division by zero. Default is 1e-9.\n",
    "\n",
    "    Attributes:\n",
    "        length_scales (nn.Parameter): The length scales for each dimension.\n",
    "        signal_variance (nn.Parameter): The signal variance.\n",
    "        eps (float): A small constant to prevent division by zero.\n",
    "\n",
    "    \"\"\"\n",
    "\n",
    "    def __init__(self, input_dim, initial_length_scale=1.0, initial_signal_variance=1.0, eps=EPS):\n",
    "        super().__init__()\n",
    "        self.length_scales = nn.Parameter(torch.ones(input_dim) * initial_length_scale)\n",
    "        self.signal_variance = nn.Parameter(torch.tensor([initial_signal_variance]))\n",
    "        self.eps = eps\n",
    "\n",
    "    def forward(self, x1, x2):\n",
    "        \"\"\"\n",
    "        Compute the covariance matrix using the ARD kernel.\n",
    "\n",
    "        Args:\n",
    "            x1 (torch.Tensor): The first input tensor.\n",
    "            x2 (torch.Tensor): The second input tensor.\n",
    "\n",
    "        Returns:\n",
    "            torch.Tensor: The covariance matrix.\n",
    "\n",
    "        \"\"\"\n",
    "        length_scales = torch.abs(self.length_scales) + self.eps\n",
    "\n",
    "        scaled_x1 = x1 / length_scales\n",
    "        scaled_x2 = x2 / length_scales\n",
    "        sqdist = torch.cdist(scaled_x1, scaled_x2, p=2) ** 2\n",
    "        return self.signal_variance.abs() * torch.exp(-0.5 * sqdist)"
   ]
  },
  {
   "cell_type": "markdown",
   "id": "932c072b",
   "metadata": {},
   "source": [
    "## 3. HOGP_simple类初始化\n",
    "回到我们这个例子。一般来说，函数输出并不表示图像像素；HOGP没有明确的坐标来索引输出并反映它们的相关性。为了解决这个问题，HOGP将所有输出重新排列到多维空间（即张量空间）中，并引入潜在的坐标特征来索引输出并捕捉它们的相关性(self.grid),输入与潜在特征的映射用mapping_vector表示。最后，我们将输入和潜在特征相结合，为重新排列的输出建立GP回归模型。<br/>\n",
    "具体来说，给定训练数据集D，其中$y$被组织为一个$Q$模的张量，即$y∈R^{d_1×··×d_Q}$,这里我们可以使用$Q+1$模张量$Z∈R^{d_1×··×d_Q ×N}$来表示N个训练输入的所有观测输出。这样训练数据可以表示为$(X,Z)$，将潜在特征向量堆叠成Q个矩阵，$V＝${$V^1,...,V^Q$}，其中$V_k（1≤k≤Q）$中的行是模$k$中坐标的特征向量。因此，每个$V_k$是一个$d_k×r_k$矩阵，其中$r_k$是模式$k$中特征向量的维数。<br/>\n",
    "我们首先从高斯先验中采样一个权重张量$W∈R^{r_1×··×r_Q×p}$，$p(W) = N(vec(W)|0,I)$， 我们从$p(Z|X,V) = N(vec(Z)|vec(F),τ^{-1}I)$中采样$Z$,$τ$是逆方差，我们有$$F = W ×_1 V^1 ... ×_Q V^Q ×_{Q+1} X$$\n",
    "由塔克张量性质可得$$vec(F) = (V^1⊗...⊗V^Q⊗X)vec(W)$$\n",
    "得到多元线性回归模型的联合概率是$$p(Z,W|X,V,τ) = N(vec(W)|0,I)*N(vec(Z)|vec(F),τ^{-1}I)$$\n",
    "$Z$的边际概率由下式给出$$p(Z|X,V,τ)= N(vec(Z)|0, Σ+ τ^{-1}I)$$\n",
    "$$Σ = V^1(V^1)^T ⊗ ... ⊗V^Q(V^Q)^T ⊗ XX^T$$\n",
    "HOGP结合了原始输入$X$和潜在坐标特征$V$，通过多线性Tucker算子生成所有输出。以$V^1$为例，用映射的特征向量$φ（v^1_j）$来替换$V^1$中的每一行$v^1_j$。用$φ(V^1)$表示映射的特征矩阵。用核矩阵$K^1$代替$φ(V^1)φ(V^1)^T$，其中每个元素$[K^1]_{i,j} = k_1(v^1_i ,v^1_j )$是一个执行隐式特征映射和内积的核函数,我们得到：\n",
    "$$p(Z|X, V, τ ) = N (vec(Z)|0, K^1 ⊗ ... ⊗ K^Q ⊗ K + τ^{-1}I)$$\n",
    "其中{$K^1,...,K^Q$}是输入X的潜在坐标特征{$V^1,...,V^Q$}的核矩阵，$K$是输入$X$的核矩阵，以我们的例子为例，我们的HOGP就需要有2+1个核函数<br />\n",
    "下面给出HOGP_simple_demo的初始化实现"
   ]
  },
  {
   "cell_type": "code",
   "execution_count": 5,
   "id": "f3b4cd69",
   "metadata": {
    "ExecuteTime": {
     "end_time": "2024-07-31T01:18:16.122701100Z",
     "start_time": "2024-07-31T01:18:16.104885500Z"
    }
   },
   "outputs": [],
   "source": [
    "class HOGP_simple_demo(nn.Module):\n",
    "    def __init__(self, kernel, noise_variance, output_shape, learnable_grid=False, learnable_map=False):\n",
    "        super().__init__()\n",
    "        self.noise_variance = nn.Parameter(torch.tensor([noise_variance]))\n",
    "        self.kernel_list = []\n",
    "        self.K = []\n",
    "        self.K_eigen = []\n",
    "        self.kernel_list = nn.ModuleList()\n",
    "        for _ in range(len(output_shape) + 1):\n",
    "            new_kernel = kernel\n",
    "            self.kernel_list.append(new_kernel)\n",
    "        ##Potential coordinate features\n",
    "        self.grid = nn.ParameterList()\n",
    "        for _value in output_shape:\n",
    "            self.grid.append(nn.Parameter(torch.tensor(range(_value)).reshape(-1, 1).float()))\n",
    "        if learnable_grid is False:\n",
    "            for i in range(len(self.grid)):\n",
    "                self.grid[i].requires_grad = False\n",
    "        ##Latent feature mapping\n",
    "        self.mapping_vector = nn.ParameterList()\n",
    "        for _value in output_shape:\n",
    "            self.mapping_vector.append(nn.Parameter(torch.eye(_value)))\n",
    "        if learnable_map is False:\n",
    "            for i in range(len(self.mapping_vector)):\n",
    "                self.mapping_vector[i].requires_grad = False"
   ]
  },
  {
   "cell_type": "markdown",
   "id": "ef157496",
   "metadata": {},
   "source": [
    "## 4.对数似然函数（log likelihood）\n",
    "HOGP是GP和潜在GP模型的混合——每个输出$y_c$与观察到的输入向量$x$和$Q$个潜在坐标特征向量{$v^1_{c_1},...,v^K_{c_K}$}相关联。因此，给定观测数据集$D$=（$X，Z$），推理需要估计$Q$模式张量空间中的所有潜在特征，$V$={$V^1,...,V^Q$}，以及潜在特征和原始输入的核参数，以及逆方差$τ$。<br />\n",
    "类似于普通的GP，HOGP的对数似然函数为：\n",
    "$$L = log (p(Z|X, V, τ )) = -\\frac{1}{2} log |S| -\\frac{1}{2} vec(Z)^TS^{−1}vec(Z) + const$$\n",
    "\n",
    "其中$S = K^1⊗...⊗K^Q⊗K+τ^{−1}I$,符号 ⊗ 表示Kronecker积\n",
    "为了更好的计算对数似然函数，首先用其特征分解(求特征值与特征向量)来表示$S$中的每个核矩阵$K$，即$K = Udiag(λ)U^T$,经过分解后$$S = U_1diag(λ_1)U_1^T ⊗...⊗ U_Qdiag(λ_Q)U^T_Q⊗Udiag(λ)U^T + τ^{-1}I$$\n",
    "利用Kronecker乘积性质，我们可以得出：$$S = PΛP^T + τ^{−1}I$$\n",
    "其中$P = U_1 ⊗...⊗ U_Q ⊗ U$ , $Λ = diag(λ_1 ⊗...⊗ λ_Q ⊗ λ)$\n",
    "由于$U$和每个$U_k（1≤k≤Q）$都是特征向量并且是正交的，所以它们的Kronecker乘积也是正交的.<br />\n",
    "进一步可以得到:\n",
    "$$S = P(Λ + τ^{-1}I)P^T, S^{-1} = P(Λ + τ^{-1}I)^{−1}P^T$$\n",
    "因此：\n",
    "$log |S| = log |P(Λ + τ^{-1}I)P^T| = log |P^TP(Λ+τ^{-1}I)| = log |Λ+τ^{-1}|$<br />\n",
    "对于对数似然函数的第二块：\n",
    "$$vec(Z)^TS^{−1}vec(Z) = b^Tb$$\n",
    "$$b = S^{-\\frac{1}{2}}vec(Z) = P(Λ + τ^{−1})^{-\\frac{1}{2}}P^T · vec(Z)$$\n",
    "由于$P$是Kronecker乘积，我们可以递归地应用Tucker算子的性质来计算$b$<br />\n",
    "$$T_1 = Z ×_1 U^T_1 ... ×_Q U^T_Q ×_{Q+1}U^T$$\n",
    "$$T_2 = T_1 \\bigodot A^{•-\\frac{1}{2}}$$\n",
    "$$T_3 = T_2 ×_1 U_1...×_QU_Q×_{Q+1}U $$\n",
    "$$b = vec(T_3)$$\n",
    "$\\bigodot$表示元素乘积，$(·)•^{-\\frac{1}{2}}$是对元素取二分之一的幂，$A^{•-\\frac{1}{2}}$对应$(Λ + τ^-1I)^{-\\frac{1}{2}}$的对角线<br />\n",
    "接下来，我们把计算对数似然的过程编写出来\n"
   ]
  },
  {
   "cell_type": "code",
   "execution_count": 6,
   "id": "e48ca8be",
   "metadata": {
    "ExecuteTime": {
     "end_time": "2024-07-31T01:18:18.189815800Z",
     "start_time": "2024-07-31T01:18:17.383823100Z"
    }
   },
   "outputs": [],
   "source": [
    "import math\n",
    "import tensorly\n",
    "from tensorly import tucker_to_tensor\n",
    "\n",
    "tensorly.set_backend('pytorch')\n",
    "\n",
    "\n",
    "def log_likelihood_demo(self, x_train, y_train):\n",
    "    if isinstance(y_train, list):\n",
    "        y_train_var = y_train[1]\n",
    "        y_train = y_train[0]\n",
    "    else:\n",
    "        y_train_var = None\n",
    "\n",
    "    ## Ensure that the K list is empty when calculating each epoch\n",
    "    self.K.clear()\n",
    "    self.K_eigen.clear()\n",
    "    if y_train_var is not None:\n",
    "        self.K.append(self.kernel_list[0](x_train, x_train) + y_train_var)\n",
    "    else:\n",
    "        self.K.append(self.kernel_list[0](x_train, x_train))\n",
    "    self.K_eigen.append(eigen_pairs(self.K[-1]))\n",
    "\n",
    "    ## Using matrix feature decomposition to reduce overhead\n",
    "    for i in range(0, len(self.kernel_list) - 1):\n",
    "        _in = tensorly.tenalg.mode_dot(self.grid[i], self.mapping_vector[i], 0)\n",
    "        self.K.append(self.kernel_list[i + 1](_in, _in))\n",
    "        self.K_eigen.append(eigen_pairs(self.K[-1]))\n",
    "    _init_value = torch.tensor([1.0], device=list(self.parameters())[0].device).reshape(*[1 for i in self.K])\n",
    "    lambda_list = [eigen.value.reshape(-1, 1) for eigen in self.K_eigen]\n",
    "    A = tucker_to_tensor((_init_value, lambda_list))\n",
    "    A = A + self.noise_variance.pow(-1) * tensorly.ones(A.shape, device=list(self.parameters())[0].device)\n",
    "\n",
    "    T_1 = tensorly.tenalg.multi_mode_dot(y_train, [eigen.vector.T for eigen in self.K_eigen])\n",
    "    T_2 = T_1 * A.pow(-1 / 2)\n",
    "    T_3 = tensorly.tenalg.multi_mode_dot(T_2, [eigen.vector for eigen in self.K_eigen])\n",
    "    b = tensorly.tensor_to_vec(T_3)\n",
    "    g = tensorly.tenalg.multi_mode_dot(T_1 * A.pow(-1), [eigen.vector for eigen in self.K_eigen])\n",
    "\n",
    "    ## Store the A and g for later use\n",
    "    self.A = A\n",
    "    self.g = g\n",
    "    nd = torch.prod(torch.tensor([value for value in self.A.shape]))\n",
    "    ## Calculate the log likelihood\n",
    "    loss = -1 / 2 * nd * torch.log(torch.tensor(2 * math.pi, device=list(self.parameters())[0].device))\n",
    "    loss += -1 / 2 * torch.log(self.A).sum()\n",
    "    loss += -1 / 2 * b.t() @ b\n",
    "\n",
    "    loss = -loss / nd\n",
    "    return loss"
   ]
  },
  {
   "cell_type": "markdown",
   "id": "0dd16b4d",
   "metadata": {},
   "source": [
    "## 5. 预测（Predict）\n",
    "给定一个新的输入$x^*$,通过条件高斯分布计算d个输出的预测分布，张量化为$y^*$，即：\n",
    "$$p(Y^*|x^*, D) = N (vec(Y^*)|μ^*, Σ^*) $$\n",
    "预测的均值为：<br />\n",
    "$$μ^* = (K^1 ⊗ ...⊗ K^Q ⊗ k_*)g $$\n",
    "其中：$g = S^{−1}vec(Z)$，$g$的值在计算对数似然的时候已经计算并保存<br/>\n",
    "预测的方差为：\n",
    "$$Σ^* = (K^1 ⊗ ... ⊗ K^Q)k(x^*, x^*) − (K^1 ⊗ ...⊗ K^Q ⊗ k_*)S^{−1}(K^1 ⊗ ... ⊗ K^Q ⊗ k^T_*)$$\n",
    "$$k_* = [k(x^*, x_1),..., k(x^*, x_N )]$$\n",
    "有关均值的计算，我们可以使用Tucker运算进行有效计算，另外对于$Σ^*$的计算，可以使用上面提到的核矩阵特征分解的方法进行计算。但是，当$d$很大时，计算$d×d$预测协方差矩阵$∑*$是不实际的因此这里我们选择计算每个单独输出的方差。可以得出：\n",
    "$$Σ^* = (K^1 ⊗...⊗ K^Q)k(x^*, x^*) − LL^T$$\n",
    "其中$L = (U_1 ⊗...⊗ U_Q ⊗ k_*K^{−1}U)(Λ(Λ + τ^{−1}I)-\\frac{1}{2})$<br />\n",
    "所有预测的方差为：\n",
    "$$diag(Σ^*) = k(x^*, x^*)diag(K_1 ⊗...⊗ K^Q) − diag(LL^T) = k(x^*, x^*)diag(K^1 ⊗ ...⊗ K^Q) − L^{•2} ·1$$\n",
    "最后我们使用张量代数计算预测的方差：\n",
    "$$diag(Σ^*) = vec(M)$$\n",
    "$$M = k(x^*, x^*)·(diag(K^1)◦...◦diag(K^Q))+S^{•2}×_1U^{•2}_1...×_QU^{•2}_Q ×_{Q+1}(k_* K^{−1} U)^{•2}$$\n",
    "其中$◦$为Kruskal算子<br />\n",
    "预测过程的代码如下：\n"
   ]
  },
  {
   "cell_type": "code",
   "execution_count": 7,
   "id": "28a06a7a",
   "metadata": {
    "ExecuteTime": {
     "end_time": "2024-07-31T01:18:21.147647100Z",
     "start_time": "2024-07-31T01:18:21.141138900Z"
    }
   },
   "outputs": [],
   "source": [
    "def forward_demo(self, x_train, x_test):\n",
    "    K_star = self.kernel_list[0](x_test, x_train)\n",
    "    K_predict = [K_star] + self.K[1:]\n",
    "\n",
    "    predict_u = tensorly.tenalg.multi_mode_dot(self.g, K_predict)\n",
    "    n_dim = len(self.K_eigen) - 1\n",
    "    _init_value = torch.tensor([1.0]).reshape(*[1 for i in range(n_dim)]).to(x_train.device)\n",
    "    #Reduce memory, therefore take diagonal elements\n",
    "    diag_K_dims = tucker_to_tensor((_init_value, [K.diag().reshape(-1, 1) for K in self.K[1:]]))\n",
    "    diag_K_dims = diag_K_dims.unsqueeze(0)\n",
    "    diag_K_x = self.kernel_list[0](x_test, x_test).diag()\n",
    "    for i in range(n_dim):\n",
    "        diag_K_x = diag_K_x.unsqueeze(-1)\n",
    "    diag_K = diag_K_x * diag_K_dims\n",
    "\n",
    "    S = self.A * self.A.pow(-1 / 2)\n",
    "    S_2 = S.pow(2)\n",
    "    eigen_vectors_x = K_star @ self.K[0]\n",
    "    eigen_vectors_dims = [self.K_eigen[i + 1].vector.pow(2) for i in range(n_dim)]\n",
    "\n",
    "    eigen_vectors = [eigen_vectors_x] + eigen_vectors_dims\n",
    "    S_product = tensorly.tenalg.multi_mode_dot(S_2, eigen_vectors)\n",
    "    var_diag = diag_K + S_product\n",
    "\n",
    "    return predict_u, var_diag"
   ]
  },
  {
   "cell_type": "markdown",
   "id": "0dd16b4d",
   "metadata": {},
   "source": [
    "## 6.完整HOGP_simple定义\n",
    "分别了解了HOGP各个模块以及参数后，下面我们给出完整的HOGP_simple定义，并进行实例化"
   ]
  },
  {
   "cell_type": "code",
   "execution_count": 27,
   "id": "c2a7a68e",
   "metadata": {
    "ExecuteTime": {
     "end_time": "2024-07-31T01:32:30.767126200Z",
     "start_time": "2024-07-31T01:32:30.749576700Z"
    }
   },
   "outputs": [],
   "source": [
    "class HOGP_simple(nn.Module):\n",
    "    def __init__(self, kernel, noise_variance, output_shape, learnable_grid=False, learnable_map=False):\n",
    "        super().__init__()\n",
    "        device = torch.device('cuda' if torch.cuda.is_available() else 'cpu')\n",
    "        self.noise_variance = nn.Parameter(torch.tensor([noise_variance])).to(device)\n",
    "        self.kernel_list = nn.ModuleList().to(device)\n",
    "        self.K = []\n",
    "        self.K_eigen = []\n",
    "        for _ in range(len(output_shape) + 1):\n",
    "            new_kernel = kernel\n",
    "            self.kernel_list.append(new_kernel)\n",
    "        self.grid = nn.ParameterList().to(device)\n",
    "        for _value in output_shape:\n",
    "            self.grid.append(nn.Parameter(torch.tensor(range(_value)).reshape(-1, 1).double()).to(device))\n",
    "        if learnable_grid is False:\n",
    "            for i in range(len(self.grid)):\n",
    "                self.grid[i].requires_grad = False\n",
    "        self.mapping_vector = nn.ParameterList().to(device)\n",
    "        for _value in output_shape:\n",
    "            self.mapping_vector.append(nn.Parameter(torch.eye(_value).double()).to(device))\n",
    "        if learnable_map is False:\n",
    "            for i in range(len(self.mapping_vector)):\n",
    "                self.mapping_vector[i].requires_grad = False\n",
    "\n",
    "    def forward(self, x_train, x_test):\n",
    "        device = torch.device('cuda' if torch.cuda.is_available() else 'cpu')\n",
    "        x_train = x_train.to(device)\n",
    "        x_test = x_test.to(device)\n",
    "        K_star = self.kernel_list[0](x_test, x_train)\n",
    "        K_predict = [K_star] + self.K[1:]\n",
    "\n",
    "        predict_u = tensorly.tenalg.multi_mode_dot(self.g, K_predict)\n",
    "        n_dim = len(self.K_eigen) - 1\n",
    "        _init_value = torch.tensor([1.0]).reshape(*[1 for i in range(n_dim)]).to(x_train.device)\n",
    "        diag_K_dims = tucker_to_tensor((_init_value, [K.diag().reshape(-1, 1) for K in self.K[1:]]))\n",
    "        diag_K_dims = diag_K_dims.unsqueeze(0)\n",
    "        diag_K_x = self.kernel_list[0](x_test, x_test).diag()\n",
    "        for i in range(n_dim):\n",
    "            diag_K_x = diag_K_x.unsqueeze(-1)\n",
    "        diag_K = diag_K_x * diag_K_dims\n",
    "\n",
    "        S = self.A * self.A.pow(-1 / 2)\n",
    "        S_2 = S.pow(2)\n",
    "        eigen_vectors_x = K_star @ self.K[0]\n",
    "        eigen_vectors_dims = [self.K_eigen[i + 1].vector.pow(2) for i in range(n_dim)]\n",
    "\n",
    "        eigen_vectors = [eigen_vectors_x] + eigen_vectors_dims\n",
    "        S_product = tensorly.tenalg.multi_mode_dot(S_2, eigen_vectors)\n",
    "        var_diag = diag_K + S_product\n",
    "\n",
    "        return predict_u, var_diag\n",
    "\n",
    "    def log_likelihood(self, x_train, y_train):\n",
    "        device = torch.device('cuda' if torch.cuda.is_available() else 'cpu')\n",
    "        x_train = x_train.to(device)\n",
    "        y_train = y_train.to(device)\n",
    "        if isinstance(y_train, list):\n",
    "            y_train_var = y_train[1]\n",
    "            y_train = y_train[0]\n",
    "        else:\n",
    "            y_train_var = None\n",
    "\n",
    "        self.K.clear()\n",
    "        self.K_eigen.clear()\n",
    "        if y_train_var is not None:\n",
    "            self.K.append(self.kernel_list[0](x_train, x_train) + y_train_var)\n",
    "        else:\n",
    "            self.K.append(self.kernel_list[0](x_train, x_train))\n",
    "        self.K_eigen.append(eigen_pairs(self.K[-1]))\n",
    "\n",
    "        for i in range(0, len(self.kernel_list) - 1):\n",
    "            _in = tensorly.tenalg.mode_dot(self.grid[i], self.mapping_vector[i], 0)\n",
    "            self.K.append(self.kernel_list[i + 1](_in, _in))\n",
    "            self.K_eigen.append(eigen_pairs(self.K[-1]))\n",
    "        _init_value = torch.tensor([1.0], device=device).reshape(*[1 for i in self.K])\n",
    "        lambda_list = [eigen.value.reshape(-1, 1) for eigen in self.K_eigen]\n",
    "        A = tucker_to_tensor((_init_value, lambda_list))\n",
    "        A = A + self.noise_variance.pow(-1) * tensorly.ones(A.shape, device=device)\n",
    "\n",
    "        T_1 = tensorly.tenalg.multi_mode_dot(y_train, [eigen.vector.T for eigen in self.K_eigen])\n",
    "        T_2 = T_1 * A.pow(-1 / 2)\n",
    "        T_3 = tensorly.tenalg.multi_mode_dot(T_2, [eigen.vector for eigen in self.K_eigen])\n",
    "        b = tensorly.tensor_to_vec(T_3)\n",
    "        g = tensorly.tenalg.multi_mode_dot(T_1 * A.pow(-1), [eigen.vector for eigen in self.K_eigen])\n",
    "\n",
    "        self.A = A\n",
    "        self.g = g\n",
    "        nd = torch.prod(torch.tensor([value for value in self.A.shape]))\n",
    "        loss = -1 / 2 * nd * torch.log(torch.tensor(2 * math.pi, device=device))\n",
    "        loss += -1 / 2 * torch.log(self.A).sum()\n",
    "        loss += -1 / 2 * b.t() @ b\n",
    "\n",
    "        loss = -loss / nd\n",
    "        return loss\n",
    "\n",
    "\n",
    "GPmodel = HOGP_simple(kernel=kernel.ARDKernel(1), noise_variance=1.0, output_shape=output_shape)"
   ]
  },
  {
   "cell_type": "markdown",
   "id": "552b00a1",
   "metadata": {},
   "source": [
    "#### 7. 调用优化器并进行训练\n",
    "当损失函数，也就是对数似然函数定义好之后，我们可以很简单地通过调用优化器来最小化损失函数值并进行训练~"
   ]
  },
  {
   "cell_type": "code",
   "execution_count": 28,
   "id": "5c1078f3",
   "metadata": {
    "ExecuteTime": {
     "end_time": "2024-07-31T01:32:38.498994900Z",
     "start_time": "2024-07-31T01:32:31.412940Z"
    }
   },
   "outputs": [
    {
     "name": "stdout",
     "output_type": "stream",
     "text": [
      "iter 0 nll:1.16068\n",
      "iter 1 nll:1.15387\n",
      "iter 2 nll:1.14725\n",
      "iter 3 nll:1.14082\n",
      "iter 4 nll:1.13458\n",
      "iter 5 nll:1.12853\n",
      "iter 6 nll:1.12267\n",
      "iter 7 nll:1.11699\n",
      "iter 8 nll:1.11150\n",
      "iter 9 nll:1.10619\n",
      "iter 10 nll:1.10105\n",
      "iter 11 nll:1.09609\n",
      "iter 12 nll:1.09130\n",
      "iter 13 nll:1.08668\n",
      "iter 14 nll:1.08222\n",
      "iter 15 nll:1.07793\n",
      "iter 16 nll:1.07378\n",
      "iter 17 nll:1.06979\n",
      "iter 18 nll:1.06595\n",
      "iter 19 nll:1.06224\n",
      "iter 20 nll:1.05868\n",
      "iter 21 nll:1.05524\n",
      "iter 22 nll:1.05194\n",
      "iter 23 nll:1.04876\n",
      "iter 24 nll:1.04570\n",
      "iter 25 nll:1.04275\n",
      "iter 26 nll:1.03991\n",
      "iter 27 nll:1.03718\n",
      "iter 28 nll:1.03455\n",
      "iter 29 nll:1.03202\n",
      "iter 30 nll:1.02958\n",
      "iter 31 nll:1.02723\n",
      "iter 32 nll:1.02496\n",
      "iter 33 nll:1.02278\n",
      "iter 34 nll:1.02068\n",
      "iter 35 nll:1.01865\n",
      "iter 36 nll:1.01669\n",
      "iter 37 nll:1.01480\n",
      "iter 38 nll:1.01298\n",
      "iter 39 nll:1.01121\n",
      "iter 40 nll:1.00951\n",
      "iter 41 nll:1.00787\n",
      "iter 42 nll:1.00628\n",
      "iter 43 nll:1.00474\n",
      "iter 44 nll:1.00325\n",
      "iter 45 nll:1.00181\n",
      "iter 46 nll:1.00041\n",
      "iter 47 nll:0.99906\n",
      "iter 48 nll:0.99775\n",
      "iter 49 nll:0.99648\n",
      "iter 50 nll:0.99524\n",
      "iter 51 nll:0.99405\n",
      "iter 52 nll:0.99288\n",
      "iter 53 nll:0.99175\n",
      "iter 54 nll:0.99066\n",
      "iter 55 nll:0.98959\n",
      "iter 56 nll:0.98855\n",
      "iter 57 nll:0.98754\n",
      "iter 58 nll:0.98656\n",
      "iter 59 nll:0.98561\n",
      "iter 60 nll:0.98468\n",
      "iter 61 nll:0.98377\n",
      "iter 62 nll:0.98289\n",
      "iter 63 nll:0.98202\n",
      "iter 64 nll:0.98118\n",
      "iter 65 nll:0.98036\n",
      "iter 66 nll:0.97956\n",
      "iter 67 nll:0.97878\n",
      "iter 68 nll:0.97802\n",
      "iter 69 nll:0.97728\n",
      "iter 70 nll:0.97655\n",
      "iter 71 nll:0.97584\n",
      "iter 72 nll:0.97514\n",
      "iter 73 nll:0.97446\n",
      "iter 74 nll:0.97380\n",
      "iter 75 nll:0.97315\n",
      "iter 76 nll:0.97251\n",
      "iter 77 nll:0.97189\n",
      "iter 78 nll:0.97128\n",
      "iter 79 nll:0.97068\n",
      "iter 80 nll:0.97010\n",
      "iter 81 nll:0.96953\n",
      "iter 82 nll:0.96896\n",
      "iter 83 nll:0.96841\n",
      "iter 84 nll:0.96788\n",
      "iter 85 nll:0.96735\n",
      "iter 86 nll:0.96683\n",
      "iter 87 nll:0.96632\n",
      "iter 88 nll:0.96582\n",
      "iter 89 nll:0.96533\n",
      "iter 90 nll:0.96485\n",
      "iter 91 nll:0.96438\n",
      "iter 92 nll:0.96392\n",
      "iter 93 nll:0.96347\n",
      "iter 94 nll:0.96302\n",
      "iter 95 nll:0.96258\n",
      "iter 96 nll:0.96215\n",
      "iter 97 nll:0.96173\n",
      "iter 98 nll:0.96132\n",
      "iter 99 nll:0.96091\n"
     ]
    }
   ],
   "source": [
    "optimizer = torch.optim.Adam(GPmodel.parameters(), lr=1e-2)\n",
    "for i in range(100):\n",
    "    optimizer.zero_grad()\n",
    "    loss = GPmodel.log_likelihood(xtr, ytr)\n",
    "    loss.backward()\n",
    "    optimizer.step()\n",
    "    print('iter', i, 'nll:{:.5f}'.format(loss.item()))"
   ]
  },
  {
   "cell_type": "markdown",
   "id": "b779c734",
   "metadata": {},
   "source": [
    "## 8. 预测与可视化\n",
    "训练完HOGP后，我们使用测试数据$xte$进行预测，并将结果进行可视化，通过比较GroundTruth与预测值，以及他们的差值，我们可以看到HOGP的预测效果，这里只展示其中的一个预测结果，其余的可以自行尝试~"
   ]
  },
  {
   "cell_type": "code",
   "execution_count": 26,
   "id": "f4295326",
   "metadata": {
    "ExecuteTime": {
     "end_time": "2024-07-31T01:32:15.198063500Z",
     "start_time": "2024-07-31T01:32:14.568201200Z"
    }
   },
   "outputs": [
    {
     "data": {
      "text/plain": "<Figure size 1500x500 with 4 Axes>",
      "image/png": "[encoded data removed]"
     },
     "metadata": {},
     "output_type": "display_data"
    }
   ],
   "source": [
    "with torch.no_grad():\n",
    "    ypred, ypred_var = GPmodel.forward(xtr, xte)\n",
    "    ypred = normalizer.denormalize(ypred, 'y')\n",
    "\n",
    "##plot_res_for_only_1\n",
    "fig, axs = plt.subplots(1, 3, figsize=(15, 5))\n",
    "yte = normalizer.denormalize(yte, 'y')\n",
    "vmin = torch.min(yte[1])\n",
    "vmax = torch.max(yte[1])\n",
    "\n",
    "im = axs[0].imshow(yte[1].cpu(), cmap='hot', interpolation='nearest', vmin=vmin, vmax=vmax)\n",
    "axs[0].set_title('Groundtruth')\n",
    "\n",
    "axs[1].imshow(ypred[1].cpu(), cmap='hot', interpolation='nearest', vmin=vmin, vmax=vmax)\n",
    "axs[1].set_title('Predict')\n",
    "\n",
    "axs[2].imshow((yte[1].cpu() - ypred[1].cpu()).abs(), cmap='hot', interpolation='nearest', vmin=vmin, vmax=vmax)\n",
    "axs[2].set_title('Difference')\n",
    "\n",
    "cbar_ax = fig.add_axes([0.95, 0.2, 0.03, 0.6])\n",
    "cbar = fig.colorbar(im, cax=cbar_ax)\n",
    "plt.show()"
   ]
  },
  {
   "cell_type": "code",
   "execution_count": null,
   "outputs": [],
   "source": [],
   "metadata": {
    "collapsed": false
   }
  }
 ],
 "metadata": {
  "kernelspec": {
   "display_name": "Python 3 (ipykernel)",
   "language": "python",
   "name": "python3"
  },
  "language_info": {
   "codemirror_mode": {
    "name": "ipython",
    "version": 3
   },
   "file_extension": ".py",
   "mimetype": "text/x-python",
   "name": "python",
   "nbconvert_exporter": "python",
   "pygments_lexer": "ipython3",
   "version": "3.6.13"
  }
 },
 "nbformat": 4,
 "nbformat_minor": 5
}
