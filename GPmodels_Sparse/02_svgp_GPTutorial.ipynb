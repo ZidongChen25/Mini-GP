{
 "cells": [
  {
   "cell_type": "markdown",
   "id": "9d0d9dd5-534c-4a6a-8027-f5be4ca8a86f",
   "metadata": {},
   "source": [
    "<span style=\"font-size:24px; font-weight:bold;\">A tutorial for Stochastic Variational Inference Gaussian Process  </span>\n"
   ]
  },
  {
   "metadata": {},
   "cell_type": "markdown",
   "source": [
    "**Author:** Zidong Chen\n",
    "\n",
    "**Date:** 2024/07/16\n",
    "\n",
    "**Introduction:** This tutorial, along with the implementation of the SVGP model, aims to enhance readability. Therefore, I will not include mini-batch gradient descent in this demonstration. Instructions for performing mini-batch gradient descent with SVGP can be found in the file **02_svgp_with_miniBatch**. More details about the derivation of the lower bound are available in the original paper, [Gaussian process for big data](https://arxiv.org/pdf/1309.6835).\n",
    "\n"
   ],
   "id": "54559eda81067459"
  },
  {
   "cell_type": "code",
   "id": "30a10e18-dcec-4d6d-ab64-99ed5513a5ff",
   "metadata": {
    "ExecuteTime": {
     "end_time": "2024-07-29T07:29:18.232739Z",
     "start_time": "2024-07-29T07:29:18.225502800Z"
    }
   },
   "source": [
    "import torch\n",
    "import torch.nn as nn\n",
    "from matplotlib import pyplot as plt\n",
    "import os\n",
    "from core.kernel import ARDKernel\n",
    "import torch.optim as optim\n",
    "import core.GP_CommonCalculation as GP\n",
    "import numpy as np\n",
    "\n",
    "os.environ['KMP_DUPLICATE_LIB_OK'] = 'True'  # Fixing strange error if run in MacOS\n",
    "JITTER = 1e-4\n",
    "EPS = 1e-10\n",
    "PI = 3.1415\n",
    "torch.set_default_dtype(torch.float64)"
   ],
   "outputs": [],
   "execution_count": 85
  },
  {
   "cell_type": "code",
   "id": "a64f8d83-93ce-4334-9672-137d1621c199",
   "metadata": {
    "ExecuteTime": {
     "end_time": "2024-07-29T07:32:01.307510700Z",
     "start_time": "2024-07-29T07:32:01.293567200Z"
    }
   },
   "source": [
    "# Train set\n",
    "num_data = 100\n",
    "\n",
    "xtr = torch.rand(num_data, 1, dtype=torch.float64)\n",
    "ytr = ((6 * xtr - 2) ** 2) * torch.sin(12 * xtr - 4) + torch.randn(num_data, 1, dtype=torch.float64) * 0.1\n",
    "\n",
    "# Test set\n",
    "xte = torch.linspace(0, 1, 1000, dtype=torch.float64).view(-1, 1)\n",
    "yte = ((6 * xte - 2) ** 2) * torch.sin(12 * xte - 4)"
   ],
   "outputs": [],
   "execution_count": 139
  },
  {
   "metadata": {},
   "cell_type": "markdown",
   "source": [
    "**You must normalize the training data to use this method. The mean of the inducing points are learnable and initialized as zero. If there is a large difference between the real mean and zero, it may cause the mean to fail to update.**\n"
   ],
   "id": "c456218ad3c6ec8a"
  },
  {
   "metadata": {
    "ExecuteTime": {
     "end_time": "2024-07-29T07:32:01.711589200Z",
     "start_time": "2024-07-29T07:32:01.704854100Z"
    }
   },
   "cell_type": "code",
   "source": [
    "# normalize\n",
    "normalizer = GP.DataNormalization(method='standard', mode=0)\n",
    "normalizer.fit(xtr, 'xtr')\n",
    "normalizer.fit(ytr, 'ytr')\n",
    "x_normalized = normalizer.normalize(xtr, 'xtr')\n",
    "y_normalized = normalizer.normalize(ytr, 'ytr')\n",
    "xte_normalized = normalizer.normalize(xte, 'xtr')"
   ],
   "id": "8d7d850561596726",
   "outputs": [],
   "execution_count": 140
  },
  {
   "cell_type": "code",
   "id": "eecf77bd-444f-46bc-8e45-03736f3dd7b5",
   "metadata": {
    "ExecuteTime": {
     "end_time": "2024-07-29T07:32:01.921832200Z",
     "start_time": "2024-07-29T07:32:01.915004600Z"
    }
   },
   "source": [
    "#subset_set_of_training_set\n",
    "num_inducing = 10\n",
    "xm = nn.Parameter(torch.rand(num_inducing, 1))\n",
    "q_u_mean = nn.Parameter(torch.zeros(xm.size(0), 1))\n",
    "chole = nn.Parameter(torch.rand(xm.size(0), 1))  # this is trained instead of the covariance to ensure positive definite"
   ],
   "outputs": [],
   "execution_count": 141
  },
  {
   "cell_type": "code",
   "id": "88171297-a84d-49cd-8921-0d667630743c",
   "metadata": {
    "ExecuteTime": {
     "end_time": "2024-07-29T07:32:02.121677100Z",
     "start_time": "2024-07-29T07:32:02.115910900Z"
    }
   },
   "source": [
    "log_beta = nn.Parameter(torch.ones(1) * 0)"
   ],
   "outputs": [],
   "execution_count": 142
  },
  {
   "cell_type": "code",
   "id": "963dc876-a34b-4814-8396-13c53d12bced",
   "metadata": {
    "ExecuteTime": {
     "end_time": "2024-07-29T07:32:02.393886Z",
     "start_time": "2024-07-29T07:32:02.386143500Z"
    }
   },
   "source": [
    "kernel = ARDKernel(1)"
   ],
   "outputs": [],
   "execution_count": 143
  },
  {
   "cell_type": "markdown",
   "id": "cd01779f-b35c-4545-a4f7-8a2ed3ce6701",
   "metadata": {},
   "source": [
    "The lowerbound introduced by Hensman et al. [2013]\n",
    "$$\n",
    "\\mathcal{L} = \\mathbb{E}_{q(\\mathbf{f}, \\mathbf{u})}[\\log p(\\mathbf{y}|\\mathbf{f})] - \\mathrm{KL}[q(\\mathbf{u})||p(\\mathbf{u})]\n",
    "$$\n",
    "allow us to apply mini-batch learning on sparse GP"
   ]
  },
  {
   "cell_type": "markdown",
   "id": "dcef19a7-0116-44dc-8c2d-6f94ab99c6b7",
   "metadata": {},
   "source": [
    "$$\n",
    "\\mathcal{L} = \\sum_{i=1}^{n} \\left\\{ \\log \\mathcal{N}\\left(y_i \\middle| k_i^T K_{mm}^{-1} m, \\beta^{-1}\\right) - \\frac{1}{2} \\beta k_{i,i} - \\frac{1}{2} \\text{tr}(S \\Lambda_i) \\right\\} - \\mathrm{KL}[q(\\mathbf{u}) \\parallel p(\\mathbf{u})]\n",
    "$$\n",
    "$$\n",
    "\\mathcal{L} = \\sum_{i=1}^{n} \\left\\{-\\frac{1}{2} \\log(2 \\pi \\beta^{-1}) - \\frac{\\beta}{2} \\left((y_i - k_i^T K_{mm}^{-1} m)^2 \\right)- \\frac{1}{2} \\beta k_{i,i} - \\frac{1}{2} \\text{tr}(S \\Lambda_i) \\right\\} - \\mathrm{KL}[q(\\mathbf{u}) \\parallel p(\\mathbf{u})]\n",
    "$$\n",
    "And:\n",
    "$$\n",
    "\\mathrm{KL}[q(\\mathbf{u}) \\parallel p(\\mathbf{u})] = \\frac{1}{2} \\left( \\text{tr}(\\mathbf{K_{mm}}^{-1}\\mathbf{S}) + \\mathbf{m}^T \\mathbf{K_{mm}}^{-1} \\mathbf{m} - \\log\\left(\\frac{|\\mathbf{S}|}{|\\mathbf{K_{mm}}|}\\right) - d \\right)\n",
    "$$\n",
    "[more explaination for KL divergence](https://en.wikipedia.org/wiki/Kullback%E2%80%93Leibler_divergence)"
   ]
  },
  {
   "cell_type": "markdown",
   "source": [
    "Where $\\tilde{k}_{i,i}$ is the ith diagonal element of $\\tilde{\\mathbf{K}}$\n",
    "\n",
    "$$\n",
    "\\tilde{\\mathbf{K}} = \\mathbf{K}_{nn} - \\mathbf{K}_{nm} \\mathbf{K}_{mm}^{-1} \\mathbf{K}_{mn}\n",
    "$$\n",
    "$\\mathbf{k}_i$ is a vector representing the $i$-th column of $\\mathbf{K}_{mn}$\n",
    "\n",
    "and $\\Lambda_i$is defined as:\n",
    "\n",
    "$$\\Lambda_i = \\beta \\mathbf{K}_{mm}^{-1} \\mathbf{k}_i \\mathbf{k}_i^\\top \\mathbf{K}_{mm}^{-1} $$\n",
    "\n",
    "As we can see, this lower bound is disjoint for each training data point, allowing us to implement mini-batch gradient descent during training. Below is the implementation without mini-batch; more details on how to perform mini-batch gradient descent can be found in core.svgp.py\n"
   ],
   "metadata": {
    "collapsed": false
   },
   "id": "f7f8548365e675c6"
  },
  {
   "cell_type": "code",
   "source": [
    "def negative_lower_bound(q_u_mean, chole, xm, xtr, ytr, kernel, log_beta):\n",
    "    b = xtr.size(0)  #batch size\n",
    "\n",
    "    k_mm = kernel(xm, xm) + JITTER * torch.eye(xm.size(0))\n",
    "    k_mn = kernel(xm, xtr)\n",
    "    Lm = torch.linalg.cholesky(k_mm)\n",
    "    k_nm = k_mn.t()\n",
    "\n",
    "    gamma, _ = torch.triangular_solve(k_mn, Lm, upper=False)\n",
    "    K = gamma.t() @ gamma\n",
    "    K_tilda = (kernel(xtr, xtr).diag() - K.diag()).view(-1, 1)\n",
    "\n",
    "    #Option 1\n",
    "    #k_mm_inv=torch.inverse(k_mm)\n",
    "\n",
    "    #Option 2 More efficient and stable\n",
    "    k_mm_inv = torch.cholesky_inverse(Lm)\n",
    "\n",
    "    q_u_S = chole @ chole.t() + JITTER * torch.eye(xm.size(0))\n",
    "    Ls = torch.linalg.cholesky(q_u_S)\n",
    "    #Ls=flat_to_trian(chole)\n",
    "    #q_u_S=Ls@Ls.t()\n",
    "\n",
    "    A_i = log_beta.exp() * (k_mm_inv @ k_mn @ k_nm @ k_mm_inv)\n",
    "    SA_i = q_u_S @ A_i\n",
    "    tr_SA_i = SA_i.diag()\n",
    "    L = -0.5 * b * torch.log(2 * torch.tensor(PI)) + 0.5 * b * torch.log(log_beta.exp()) \\\n",
    "        - 0.5 * log_beta.exp() * ((ytr - k_nm @ k_mm_inv @ q_u_mean) ** 2).sum(dim=0).view(-1, 1) \\\n",
    "        - 0.5 * log_beta.exp() * K_tilda.sum(dim=0).view(-1, 1) - 0.5 * (tr_SA_i.sum(dim=0).view(-1, 1))\n",
    "\n",
    "    # compute KL\n",
    "    logdetS = 2 * Ls.diag().log().sum()\n",
    "    logdetKmm = 2 * Lm.diag().log().sum()\n",
    "    k_mm_invS = k_mm_inv @ q_u_S\n",
    "\n",
    "    KL = 0.5 * k_mm_invS.diag().sum(dim=0).view(-1, 1) + 0.5 * (\n",
    "                q_u_mean.t() @ k_mm_inv @ q_u_mean) - 0.5 * logdetS + 0.5 * logdetKmm - 0.5 * num_inducing\n",
    "\n",
    "    return KL, L, k_mm_inv"
   ],
   "metadata": {
    "collapsed": false,
    "ExecuteTime": {
     "end_time": "2024-07-29T07:32:03.488268200Z",
     "start_time": "2024-07-29T07:32:03.465775200Z"
    }
   },
   "id": "342fd86bb08c02de",
   "outputs": [],
   "execution_count": 144
  },
  {
   "cell_type": "code",
   "id": "517aaa62-b8a7-4b56-b5d2-55f9b67edc83",
   "metadata": {
    "ExecuteTime": {
     "end_time": "2024-07-29T07:32:06.269466600Z",
     "start_time": "2024-07-29T07:32:03.830733700Z"
    }
   },
   "source": [
    "num_epochs = 800\n",
    "optimizer = optim.Adam([q_u_mean, chole, log_beta, xm] + list(kernel.parameters()),\n",
    "                       lr=0.1)  #You probably need a large learning rate to escape local minima\n",
    "\n",
    "for i in range(num_epochs):\n",
    "    optimizer.zero_grad()\n",
    "    KL, L, k_mm_inv = negative_lower_bound(q_u_mean, chole, xm, x_normalized, y_normalized, kernel, log_beta)\n",
    "    loss = KL - L\n",
    "    loss.backward()\n",
    "    optimizer.step()\n",
    "\n",
    "    # Print kernel parameters\n",
    "    #for name, param in kernel.named_parameters():\n",
    "    #if param.requires_grad:\n",
    "    #print(f'{name}: {param.data}')\n",
    "\n",
    "    #print('log_beta:', log_beta.data)\n",
    "    if i % 10 == 0:\n",
    "        print('iter', i, 'nll:{:.5f}'.format(loss.item()))"
   ],
   "outputs": [
    {
     "name": "stdout",
     "output_type": "stream",
     "text": [
      "iter 0 nll:1573.60242\n",
      "iter 10 nll:378.09477\n",
      "iter 20 nll:225.34799\n",
      "iter 30 nll:191.73928\n",
      "iter 40 nll:173.79688\n",
      "iter 50 nll:159.79441\n",
      "iter 60 nll:152.68496\n",
      "iter 70 nll:149.20268\n",
      "iter 80 nll:144.73958\n",
      "iter 90 nll:139.20380\n",
      "iter 100 nll:131.85159\n",
      "iter 110 nll:126.31882\n",
      "iter 120 nll:135.41515\n",
      "iter 130 nll:124.40717\n",
      "iter 140 nll:116.84899\n",
      "iter 150 nll:108.05735\n",
      "iter 160 nll:114.88642\n",
      "iter 170 nll:131.45836\n",
      "iter 180 nll:125.68889\n",
      "iter 190 nll:118.18239\n",
      "iter 200 nll:108.62207\n",
      "iter 210 nll:100.52398\n",
      "iter 220 nll:89.61441\n",
      "iter 230 nll:81.36076\n",
      "iter 240 nll:82.51559\n",
      "iter 250 nll:72.52293\n",
      "iter 260 nll:41.90465\n",
      "iter 270 nll:31.22516\n",
      "iter 280 nll:27.41103\n",
      "iter 290 nll:129.38033\n",
      "iter 300 nll:71.26256\n",
      "iter 310 nll:42.77248\n",
      "iter 320 nll:18.78756\n",
      "iter 330 nll:-10.23046\n",
      "iter 340 nll:31.08408\n",
      "iter 350 nll:76.34970\n",
      "iter 360 nll:80.56722\n",
      "iter 370 nll:53.68542\n",
      "iter 380 nll:23.14867\n",
      "iter 390 nll:-14.73847\n",
      "iter 400 nll:-52.61838\n",
      "iter 410 nll:-86.37990\n",
      "iter 420 nll:-43.15067\n",
      "iter 430 nll:56.03350\n",
      "iter 440 nll:-9.71798\n",
      "iter 450 nll:-15.36925\n",
      "iter 460 nll:-41.57148\n",
      "iter 470 nll:-69.40956\n",
      "iter 480 nll:-97.84223\n",
      "iter 490 nll:673.80554\n",
      "iter 500 nll:283.49042\n",
      "iter 510 nll:186.00688\n",
      "iter 520 nll:187.02974\n",
      "iter 530 nll:189.74680\n",
      "iter 540 nll:187.43818\n",
      "iter 550 nll:182.25485\n",
      "iter 560 nll:175.75150\n",
      "iter 570 nll:168.25777\n",
      "iter 580 nll:160.44312\n",
      "iter 590 nll:152.68254\n",
      "iter 600 nll:144.90162\n",
      "iter 610 nll:137.14289\n",
      "iter 620 nll:129.59967\n",
      "iter 630 nll:122.08795\n",
      "iter 640 nll:114.23602\n",
      "iter 650 nll:105.91968\n",
      "iter 660 nll:97.05225\n",
      "iter 670 nll:87.40935\n",
      "iter 680 nll:76.75127\n",
      "iter 690 nll:64.89562\n",
      "iter 700 nll:51.84426\n",
      "iter 710 nll:38.04061\n",
      "iter 720 nll:24.11409\n",
      "iter 730 nll:9.72733\n",
      "iter 740 nll:-4.97437\n",
      "iter 750 nll:-19.92120\n",
      "iter 760 nll:-34.96049\n",
      "iter 770 nll:-48.38668\n",
      "iter 780 nll:-61.68315\n",
      "iter 790 nll:-74.48550\n"
     ]
    }
   ],
   "execution_count": 145
  },
  {
   "cell_type": "code",
   "id": "7ceccc9a-ca2d-42e2-b7bb-a396a1d87e61",
   "metadata": {
    "ExecuteTime": {
     "end_time": "2024-07-29T07:32:06.279408200Z",
     "start_time": "2024-07-29T07:32:06.272562600Z"
    }
   },
   "source": [
    "_, _, k_mm_inv = negative_lower_bound(q_u_mean, chole, xm, x_normalized, y_normalized, kernel, log_beta)\n",
    "\n",
    "\n",
    "def forward(xm, xte, q_u_mean, kernel, chole):\n",
    "    K_tt = kernel(xte, xte)\n",
    "    K_tm = kernel(xte, xm)\n",
    "    K_mt = K_tm.t()\n",
    "    ypred = (K_tm @ k_mm_inv) @ q_u_mean\n",
    "    yvar = K_tt - K_tm @ k_mm_inv @ K_mt + K_tm @ k_mm_inv @ (chole @ chole.t()) @ k_mm_inv @ K_mt\n",
    "    yvar = yvar.diag().view(-1, 1)\n",
    "    return ypred, yvar"
   ],
   "outputs": [],
   "execution_count": 146
  },
  {
   "cell_type": "code",
   "id": "5287c31e-8f20-40d7-8812-19a16e518d13",
   "metadata": {
    "ExecuteTime": {
     "end_time": "2024-07-29T07:32:06.488105900Z",
     "start_time": "2024-07-29T07:32:06.370836500Z"
    }
   },
   "source": [
    "ypred, yvar = forward(xm, xte_normalized, q_u_mean, kernel, chole)\n",
    "ypred = normalizer.denormalize(ypred, 'ytr')\n",
    "yvar = normalizer.denormalize_cov(yvar, 'ytr')\n",
    "xm = normalizer.denormalize(xm, 'xtr')\n",
    "q_u_mean = normalizer.denormalize(q_u_mean, 'ytr')\n",
    "plt.plot(xm.detach().numpy(), q_u_mean.detach().numpy(), 'r+', label='Inducing points')\n",
    "plt.plot(xte.numpy(), ypred.detach().numpy(), label='Prediction', c='b', lw=0.5)\n",
    "plt.fill_between(xte.squeeze().numpy(),\n",
    "                 ypred.squeeze().detach().numpy() - 1.96 * np.sqrt(yvar.squeeze().detach().numpy()),\n",
    "                 ypred.squeeze().detach().numpy() + 1.96 * np.sqrt(yvar.squeeze().detach().numpy()), alpha=0.2,\n",
    "                 label='95% Confidence interval')\n",
    "#Latent function\n",
    "plt.plot(xte.numpy(), yte.numpy(), label='Latent function', c='k', lw=0.5)\n",
    "plt.xlim(0, 1)\n",
    "plt.legend()\n",
    "plt.show()"
   ],
   "outputs": [
    {
     "data": {
      "text/plain": "<Figure size 640x480 with 1 Axes>",
      "image/png": "[encoded data removed]"
     },
     "metadata": {},
     "output_type": "display_data"
    }
   ],
   "execution_count": 147
  }
 ],
 "metadata": {
  "kernelspec": {
   "display_name": "Python 3 (ipykernel)",
   "language": "python",
   "name": "python3"
  },
  "language_info": {
   "codemirror_mode": {
    "name": "ipython",
    "version": 3
   },
   "file_extension": ".py",
   "mimetype": "text/x-python",
   "name": "python",
   "nbconvert_exporter": "python",
   "pygments_lexer": "ipython3",
   "version": "3.11.7"
  }
 },
 "nbformat": 4,
 "nbformat_minor": 5
}
